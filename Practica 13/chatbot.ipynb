{
 "cells": [
  {
   "cell_type": "code",
   "execution_count": 1,
   "metadata": {},
   "outputs": [
    {
     "name": "stdout",
     "output_type": "stream",
     "text": [
      "Hola soy un chatbot, escribe algo para comenzar\n",
      "Hola ¿como estas?\n",
      "Muy bien, gracias\n",
      "No te entiendo\n",
      "No te entiendo\n",
      "No te entiendo\n",
      "Hasta luego\n"
     ]
    }
   ],
   "source": [
    "import random\n",
    "\n",
    "responses = {\n",
    "    'saludos' : [ \"Hola ¿como estas?\" , 'Shalom' , 'Que tal!'],\n",
    "    'estado': [\"Estoy bien, gracias por preguntar\", \"Muy bien, gracias\", \"Estoy bien, gracias\", 'estoy cansado jefe'],\n",
    "    'despedida': ['Adios', 'Hasta luego', 'Hasta pronto', 'Nos vemos'],\n",
    "\n",
    "}\n",
    "\n",
    "def get_intent(user_point):\n",
    "    if any(greeting in user_point for greeting in [\"Hola ¿como estas?\" , 'Shalom' , 'Que tal!']):\n",
    "        return 'saludos'\n",
    "    if any(greeting in user_point for greeting in [\"Estoy bien, gracias por preguntar\", \"Muy bien, gracias\", \"Estoy bien, gracias\", 'estoy cansado jefe']):\n",
    "        return 'estado'\n",
    "    if any(greeting in user_point for greeting in ['Adios', 'Hasta luego', 'Hasta pronto', 'Nos vemos']):\n",
    "        return 'despedida'\n",
    "    \n",
    "def respond(intent):\n",
    "    if intent in responses:\n",
    "        return random.choice(responses[intent])\n",
    "    else:\n",
    "        return \"No te entiendo\"\n",
    "    \n",
    "#Principal funcion que ejecuta el chatbot\n",
    "def chatbot():\n",
    "    print(\"Hola soy un chatbot, escribe algo para comenzar\")\n",
    "    chat = True\n",
    "    while chat:\n",
    "        user_point = input()\n",
    "        intent = get_intent(user_point)\n",
    "        response = respond(intent)\n",
    "        print(response)\n",
    "        if intent == 'despedida':\n",
    "            chat = False\n",
    "\n",
    "chatbot()"
   ]
  },
  {
   "cell_type": "code",
   "execution_count": null,
   "metadata": {},
   "outputs": [],
   "source": []
  }
 ],
 "metadata": {
  "kernelspec": {
   "display_name": "Python 3",
   "language": "python",
   "name": "python3"
  },
  "language_info": {
   "codemirror_mode": {
    "name": "ipython",
    "version": 3
   },
   "file_extension": ".py",
   "mimetype": "text/x-python",
   "name": "python",
   "nbconvert_exporter": "python",
   "pygments_lexer": "ipython3",
   "version": "3.11.2"
  }
 },
 "nbformat": 4,
 "nbformat_minor": 2
}
