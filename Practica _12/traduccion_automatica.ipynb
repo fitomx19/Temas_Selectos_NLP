{
 "cells": [
  {
   "cell_type": "markdown",
   "metadata": {},
   "source": [
    "# Traduccion automatica"
   ]
  },
  {
   "cell_type": "markdown",
   "metadata": {},
   "source": [
    "El SMT ha sido el enfoque dominante para la TA durante muchos años, especialmente desde mediados de la década de 1990 hasta aproximadamente 2010.\n",
    "\n",
    "Sin embargo, con el advenimiento de los modelos de aprendizaje profundo y las redes neuronales, la Traduccion Automatica con Redes Neuronales la ha reemplazado\n",
    "\n",
    "Corpus Paralelo: La SMT requier un corpues paralelo, que son conjuntos de textos en dos (o más ) idiomas que son traducciones directas entre sí. A partir de estos corpora, se extraen patrones y se contruyen modelos estadísticos para la traducción.\n",
    "\n"
   ]
  },
  {
   "cell_type": "markdown",
   "metadata": {},
   "source": [
    "__Modelo basado en frases:__ En lugar de traducr palabra po palabra, la SMT a menudo opera a nivel de \"frases\" (Segmentos de texto que pueden ser de una palabra hasta varias palabras de longitud)"
   ]
  },
  {
   "cell_type": "markdown",
   "metadata": {},
   "source": [
    "__Modelo de lenguaje:__ Ademas del modelo de traducción ,la SMT utiliza modelos de lenguaje para el idioma objetivo.\n",
    "\n",
    "Estos modelos ofrecen probabilidades sobre secuencias de palbras en el idioma objetivo, lo que ayuda a garantizar que las traducciones sean fluidas y naturales.\n"
   ]
  },
  {
   "cell_type": "markdown",
   "metadata": {},
   "source": [
    "__Reordenamiento__: Dado que diferentes idiomas tiene diferentes estructuras gramaticales y órdenes de palabras, la TAE incluye modelos de reordenamiento que intentan predecir cómo las palabras y frases deben reoganizarse en la traducción.\n"
   ]
  },
  {
   "cell_type": "markdown",
   "metadata": {},
   "source": [
    "__Decodificación__: Durante la fase de traducción, un decodificador busca la traducción más probable utilizando el modelo de traducción y el modelo de lenguaje.\n",
    "\n",
    "__Técnicas de Aprendizaje Automático__: Algunas implementaciones de SMT utilizan técnicas de aprendijzaje automático para mejorar la precisión de la traducción, ajusntando los modelos basados en el feedback o en nuevos datos."
   ]
  },
  {
   "cell_type": "markdown",
   "metadata": {},
   "source": [
    "En la práctica, herramientas como __Moses__ son utilizadas para implemntar TAE con muchas más características y optimizaciones."
   ]
  },
  {
   "cell_type": "code",
   "execution_count": 2,
   "metadata": {},
   "outputs": [],
   "source": [
    "corpus_ingles = ['Im a boy', 'I am a girl' , 'this is a pen']\n",
    "corpus_espanol = ['Soy un niño', 'Soy una niña', 'esto es una pluma']"
   ]
  },
  {
   "cell_type": "code",
   "execution_count": 3,
   "metadata": {},
   "outputs": [
    {
     "name": "stdout",
     "output_type": "stream",
     "text": [
      "defaultdict(<class 'int'>, {'Im': 1, 'a': 3, 'boy': 1, 'I': 1, 'am': 1, 'girl': 1, 'this': 1, 'is': 1, 'pen': 1})\n",
      "defaultdict(<class 'int'>, {'Soy': 2, 'un': 1, 'niño': 1, 'una': 2, 'niña': 1, 'esto': 1, 'es': 1, 'pluma': 1})\n"
     ]
    }
   ],
   "source": [
    "from collections import defaultdict\n",
    "\n",
    "vocab_ingles = defaultdict(int)\n",
    "vocab_espanol = defaultdict(int)\n",
    "\n",
    "for sentence in corpus_ingles:\n",
    "    for word in sentence.split():\n",
    "        vocab_ingles[word] += 1\n",
    "\n",
    "for sentence in corpus_espanol:\n",
    "    for word in sentence.split():\n",
    "        vocab_espanol[word] += 1\n",
    "\n",
    "\n",
    "print(vocab_ingles)\n",
    "print(vocab_espanol)"
   ]
  }
 ],
 "metadata": {
  "kernelspec": {
   "display_name": "Python 3",
   "language": "python",
   "name": "python3"
  },
  "language_info": {
   "codemirror_mode": {
    "name": "ipython",
    "version": 3
   },
   "file_extension": ".py",
   "mimetype": "text/x-python",
   "name": "python",
   "nbconvert_exporter": "python",
   "pygments_lexer": "ipython3",
   "version": "3.11.2"
  }
 },
 "nbformat": 4,
 "nbformat_minor": 2
}
