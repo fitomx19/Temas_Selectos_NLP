{
 "cells": [
  {
   "cell_type": "markdown",
   "metadata": {},
   "source": [
    "### Corrector Ortografico II"
   ]
  },
  {
   "cell_type": "code",
   "execution_count": 1,
   "metadata": {},
   "outputs": [],
   "source": [
    "#pip install autocorrect\n",
    "#pip install pyspellchecker\n",
    "#pip install textblob"
   ]
  },
  {
   "cell_type": "code",
   "execution_count": 2,
   "metadata": {},
   "outputs": [],
   "source": [
    "from autocorrect import Speller\n",
    "from spellchecker import SpellChecker\n",
    "from textblob import TextBlob"
   ]
  },
  {
   "cell_type": "markdown",
   "metadata": {},
   "source": [
    "lista de palabras de comida mal escritas"
   ]
  },
  {
   "cell_type": "code",
   "execution_count": 3,
   "metadata": {},
   "outputs": [],
   "source": [
    "\n",
    "comida_mal_escrita = [\n",
    "    \"Pitsa\",\n",
    "    \"Jamburguesa\",\n",
    "    \"Sushy\",\n",
    "    \"Pitsa\",\n",
    "    \"Jamburguesa\",\n",
    "    \"Sushy\",\n",
    "    \"Takos\",\n",
    "    \"Espagetis\",\n",
    "    \"Encalada\",\n",
    "    \"Jotdog\",\n",
    "    \"Sandwits\",\n",
    "    \"Galeta\",\n",
    "    \"Pollo\",\n",
    "    \"Tartta\",\n",
    "    \"Kesoo\",\n",
    "    \"Pastel\",\n",
    "    \"Karne\",\n",
    "    \"Peksado\",\n",
    "    \"Arros\",\n",
    "    \"Fideo\",\n",
    "    \"Pan\",\n",
    "    \"Churo\",\n",
    "    \"Helado\",\n",
    "    \"Sopa\",\n",
    "    \"Sereal\",\n",
    "    \"Chokolate\",\n",
    "    \"Frutaz\",\n",
    "    \"Yogur\",\n",
    "    \"Palomitas\",\n",
    "    \"Tostada\",\n",
    "    \"Dona\",\n",
    "    \"Pudin\",\n",
    "    \"Seviche\",\n",
    "    \"Tortiya\",\n",
    "    \"Empanada\",\n",
    "    \"Crepas\",\n",
    "    \"Salchisha\",\n",
    "    \"Nachos\",\n",
    "    \"Wafles\",\n",
    "    \"Kaldo\",\n",
    "    \"Pepitos\",\n",
    "    \"Burito\",\n",
    "    \"Kurri\",\n",
    "    \"Alitas\",\n",
    "    \"Chuleta\",\n",
    "    \"Aseitunas\",\n",
    "    \"Albondigas\",\n",
    "    \"Tamales\",\n",
    "    \"Anchovas\",\n",
    "    \"Sardinas\",\n",
    "    \"Atun\",\n",
    "    \"Bisteck\",\n",
    "    \"Sope\",\n",
    "    \"Pambaso\"\n",
    "]\n"
   ]
  },
  {
   "cell_type": "code",
   "execution_count": 4,
   "metadata": {},
   "outputs": [
    {
     "name": "stdout",
     "output_type": "stream",
     "text": [
      "Palabras bien escritas: 21  precision = 0.3888888888888889\n",
      "Palabras mal escritas: 33 precision = 0.6111111111111112\n"
     ]
    }
   ],
   "source": [
    "spell = SpellChecker(language='es')\n",
    "\n",
    "palabras_bien_escritas = 0\n",
    "palabras_mal_escritas = 0\n",
    "for palabra_mal_escrita in comida_mal_escrita:\n",
    "  \n",
    "    if spell.correction(palabra_mal_escrita.lower()) == palabra_mal_escrita.lower():\n",
    "        palabras_bien_escritas += 1\n",
    "    else:\n",
    "        palabras_mal_escritas += 1\n",
    "\n",
    "# Imprimir el resultado\n",
    "print(f\"Palabras bien escritas: {palabras_bien_escritas}  precision = {palabras_bien_escritas/len(comida_mal_escrita)}\" )\n",
    "print(f\"Palabras mal escritas: {palabras_mal_escritas} precision = {palabras_mal_escritas/len(comida_mal_escrita)}\" )\n",
    "\n"
   ]
  },
  {
   "cell_type": "code",
   "execution_count": 5,
   "metadata": {},
   "outputs": [
    {
     "name": "stdout",
     "output_type": "stream",
     "text": [
      "Palabras bien escritas: 15  Precisión: 27.78%\n",
      "Palabras mal escritas: 39  Precisión: 72.22%\n"
     ]
    }
   ],
   "source": [
    "from autocorrect import Speller\n",
    "\n",
    "spell = Speller(lang='es')\n",
    "\n",
    "palabras_bien_escritas = 0\n",
    "palabras_mal_escritas = 0\n",
    "\n",
    "for palabra_mal_escrita in comida_mal_escrita:\n",
    "    if spell(palabra_mal_escrita.lower()) == palabra_mal_escrita.lower():\n",
    "        palabras_bien_escritas += 1\n",
    "    else:\n",
    "        palabras_mal_escritas += 1\n",
    "\n",
    "precision_bien_escritas = palabras_bien_escritas / len(comida_mal_escrita)\n",
    "precision_mal_escritas = palabras_mal_escritas / len(comida_mal_escrita)\n",
    "\n",
    "print(f\"Palabras bien escritas: {palabras_bien_escritas}  Precisión: {precision_bien_escritas:.2%}\")\n",
    "print(f\"Palabras mal escritas: {palabras_mal_escritas}  Precisión: {precision_mal_escritas:.2%}\")\n"
   ]
  },
  {
   "cell_type": "code",
   "execution_count": 6,
   "metadata": {},
   "outputs": [
    {
     "name": "stdout",
     "output_type": "stream",
     "text": [
      "Palabras bien escritas: 21  Precisión: 38.89%\n",
      "Palabras mal escritas: 33  Precisión: 61.11%\n"
     ]
    }
   ],
   "source": [
    "from textblob import TextBlob\n",
    "\n",
    "palabras_bien_escritas = 0\n",
    "palabras_mal_escritas = 0\n",
    "\n",
    "for palabra_mal_escrita in comida_mal_escrita:\n",
    "    palabra_blob = TextBlob(palabra_mal_escrita)\n",
    "    palabra_corregida = str(palabra_blob.correct())  \n",
    "    if palabra_corregida.lower() == palabra_mal_escrita.lower():\n",
    "        palabras_bien_escritas += 1\n",
    "    else:\n",
    "        palabras_mal_escritas += 1\n",
    "\n",
    "\n",
    "precision_bien_escritas = palabras_bien_escritas / len(comida_mal_escrita)\n",
    "precision_mal_escritas = palabras_mal_escritas / len(comida_mal_escrita)\n",
    "\n",
    "print(f\"Palabras bien escritas: {palabras_bien_escritas}  Precisión: {precision_bien_escritas:.2%}\")\n",
    "print(f\"Palabras mal escritas: {palabras_mal_escritas}  Precisión: {precision_mal_escritas:.2%}\")\n"
   ]
  }
 ],
 "metadata": {
  "kernelspec": {
   "display_name": "Python 3",
   "language": "python",
   "name": "python3"
  },
  "language_info": {
   "codemirror_mode": {
    "name": "ipython",
    "version": 3
   },
   "file_extension": ".py",
   "mimetype": "text/x-python",
   "name": "python",
   "nbconvert_exporter": "python",
   "pygments_lexer": "ipython3",
   "version": "3.11.2"
  },
  "orig_nbformat": 4
 },
 "nbformat": 4,
 "nbformat_minor": 2
}
