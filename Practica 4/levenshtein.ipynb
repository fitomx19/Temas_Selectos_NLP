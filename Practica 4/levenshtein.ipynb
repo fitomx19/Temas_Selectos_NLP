{
 "cells": [
  {
   "cell_type": "code",
   "execution_count": 1,
   "metadata": {},
   "outputs": [],
   "source": [
    "def levenshtein(s1, s2):\n",
    "    m = len(s1)\n",
    "    n = len(s2)\n",
    "\n",
    "    # Crear una matriz de tamaño (m+1)x(n+1) inicializada con ceros\n",
    "    matrix = [[0] * (n + 1) for _ in range(m + 1)]\n",
    "\n",
    "    # Inicializar la primera fila y la primera columna de la matriz\n",
    "    for i in range(m + 1):\n",
    "        matrix[i][0] = i\n",
    "    for j in range(n + 1):\n",
    "        matrix[0][j] = j\n",
    "\n",
    "    # Calcular el costo mínimo de operación para transformar s1 en s2\n",
    "    for i in range(1, m + 1):\n",
    "        for j in range(1, n + 1):\n",
    "            if s1[i - 1] == s2[j - 1]:# Comprobar si los caracteres en las posiciones actuales son iguales\n",
    "                cost = 0    # Si son iguales, el costo de sustitución es 0 (igualdad)\n",
    "            else:\n",
    "                cost = 1   # Si son diferentes, el costo de sustitución es 1\n",
    "    # Calcular el valor mínimo para la celda actual en la matriz            \n",
    "            matrix[i][j] = min(\n",
    "                matrix[i - 1][j] + 1,         # Eliminación\n",
    "                matrix[i][j - 1] + 1,         # Inserción\n",
    "                matrix[i - 1][j - 1] + cost   # Reemplazo o igualdad\n",
    "            )\n",
    "\n",
    "    return matrix\n",
    "\n",
    "def calculate_levenshtein():  # Obtener las palabras ingresadas por el usuario desde los campos de entrada\n",
    "    word1 = entry1.get()\n",
    "    word2 = entry2.get()\n",
    "\n",
    "# Calcular la matriz de Levenshtein para las dos palabras ingresadas\n",
    "    matrix = levenshtein(word1, word2)\n",
    "# Obtener la longitud de las palabras de entrada\n",
    "    m = len(word1)\n",
    "    n = len(word2)\n",
    "\n",
    "    operations = []  # Inicializar una lista para almacenar las operaciones\n",
    "\n",
    "# Rastrear las operaciones necesarias para transformar word1 en word2\n",
    "    while m > 0 and n > 0:\n",
    "        if word1[m - 1] == word2[n - 1]:  # Los caracteres en las posiciones actuales son iguales (igualdad)\n",
    "            m -= 1\n",
    "            n -= 1\n",
    "        elif matrix[m][n] == matrix[m - 1][n - 1] + 1:  # El valor en la matriz indica una sustitución\n",
    "            operations.append(f\"Sustitución de '{word1[m - 1]}' por '{word2[n - 1]}'\")\n",
    "            m -= 1\n",
    "            n -= 1\n",
    "        elif matrix[m][n] == matrix[m - 1][n] + 1:  # El valor en la matriz indica una eliminación\n",
    "            operations.append(f\"Eliminación de '{word1[m - 1]}'\")\n",
    "            m -= 1\n",
    "        elif matrix[m][n] == matrix[m][n - 1] + 1:  # El valor en la matriz indica una inserción\n",
    "            operations.append(f\"Inserción de '{word2[n - 1]}'\")\n",
    "            n -= 1\n",
    "\n",
    "# Después de salir del bucle anterior, puede haber caracteres restantes en una de las palabras\n",
    " # Añadir las operaciones restantes (eliminación o inserción)\n",
    "    while m > 0:\n",
    "        operations.append(f\"Eliminación de '{word1[m - 1]}'\")\n",
    "        m -= 1\n",
    "\n",
    "    while n > 0:\n",
    "        operations.append(f\"Inserción de '{word2[n - 1]}'\")\n",
    "        n -= 1\n",
    "\n",
    "# Invertir la lista de operaciones para que estén en el orden correcto\n",
    "    operations.reverse()"
   ]
  },
  {
   "cell_type": "code",
   "execution_count": 2,
   "metadata": {},
   "outputs": [
    {
     "data": {
      "text/plain": [
       "[[0, 1, 2, 3, 4, 5],\n",
       " [1, 0, 1, 2, 3, 4],\n",
       " [2, 1, 0, 1, 2, 3],\n",
       " [3, 2, 1, 1, 2, 3],\n",
       " [4, 3, 2, 2, 2, 3]]"
      ]
     },
     "execution_count": 2,
     "metadata": {},
     "output_type": "execute_result"
    }
   ],
   "source": [
    "levenshtein(\"casa\", \"calle\")"
   ]
  }
 ],
 "metadata": {
  "kernelspec": {
   "display_name": "Python 3",
   "language": "python",
   "name": "python3"
  },
  "language_info": {
   "codemirror_mode": {
    "name": "ipython",
    "version": 3
   },
   "file_extension": ".py",
   "mimetype": "text/x-python",
   "name": "python",
   "nbconvert_exporter": "python",
   "pygments_lexer": "ipython3",
   "version": "3.11.2"
  },
  "orig_nbformat": 4
 },
 "nbformat": 4,
 "nbformat_minor": 2
}
