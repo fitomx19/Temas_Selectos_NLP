{
 "cells": [
  {
   "cell_type": "markdown",
   "metadata": {},
   "source": [
    "### REGEX"
   ]
  },
  {
   "cell_type": "markdown",
   "metadata": {},
   "source": [
    "Realizar con regex los siguientes expresiones regulares --> \n",
    "\n",
    "- Número Telefónico\n",
    "- RFC\n",
    "- Horario y Fecha\n",
    "- URL\n",
    "- CURP\n",
    "- Boleta\n",
    "- Direcciones IP"
   ]
  },
  {
   "cell_type": "markdown",
   "metadata": {},
   "source": [
    "\n",
    "\n",
    "1. **Símbolos básicos:**\n",
    "   - `.`: Coincide con cualquier carácter excepto una nueva línea.\n",
    "   - `^`: Coincide con el inicio de una línea.\n",
    "   - `$`: Coincide con el final de una línea.\n",
    "   - `*`: Coincide con 0 o más repeticiones del carácter anterior.\n",
    "   - `+`: Coincide con 1 o más repeticiones del carácter anterior.\n",
    "   - `?`: Coincide con 0 o 1 repetición del carácter anterior.\n",
    "\n",
    "2. **Clases de caracteres:**\n",
    "   - `[abc]`: Coincide con 'a', 'b' o 'c'.\n",
    "   - `[^abc]`: Coincide con cualquier carácter que no sea 'a', 'b' o 'c'.\n",
    "   - `[a-z]`: Coincide con cualquier letra minúscula.\n",
    "   - `[A-Z]`: Coincide con cualquier letra mayúscula.\n",
    "   - `[0-9]`: Coincide con cualquier dígito.\n",
    "\n",
    "3. **Secuencias especiales:**\n",
    "   - `\\d`: Coincide con cualquier dígito (equivalente a `[0-9]`).\n",
    "   - `\\D`: Coincide con cualquier carácter que no sea un dígito.\n",
    "   - `\\s`: Coincide con cualquier espacio en blanco (espacio, tabulación, nueva línea, etc.).\n",
    "   - `\\S`: Coincide con cualquier carácter que no sea un espacio en blanco.\n",
    "   - `\\w`: Coincide con cualquier carácter alfanumérico (letras y dígitos).\n",
    "   - `\\W`: Coincide con cualquier carácter que no sea alfanumérico.\n",
    "\n",
    "4. **Repeticiones:**\n",
    "   - `{n}`: Coincide exactamente con n repeticiones del carácter anterior.\n",
    "   - `{n,}`: Coincide con al menos n repeticiones del carácter anterior.\n",
    "   - `{n,m}`: Coincide con entre n y m repeticiones del carácter anterior.\n",
    "\n",
    "5. **Operadores lógicos:**\n",
    "   - `|`: Operador OR. Por ejemplo, `(a|b)` coincidirá con 'a' o 'b'.\n",
    "   - `()`: Agrupa expresiones regulares. Por ejemplo, `(ab)+` coincidirá con 'ab', 'abab', etc.\n",
    "\n",
    "6. **Funciones principales de re:**\n",
    "   - `re.match(pattern, string)`: Busca un patrón al principio de una cadena.\n",
    "   - `re.search(pattern, string)`: Busca un patrón en toda la cadena.\n",
    "   - `re.findall(pattern, string)`: Encuentra todas las coincidencias del patrón en la cadena.\n",
    "   - `re.finditer(pattern, string)`: Encuentra todas las coincidencias del patrón y devuelve un iterador.\n",
    "   - `re.sub(pattern, repl, string)`: Reemplaza todas las coincidencias del patrón con una cadena de reemplazo."
   ]
  },
  {
   "cell_type": "markdown",
   "metadata": {},
   "source": [
    "__CURP__"
   ]
  },
  {
   "cell_type": "markdown",
   "metadata": {},
   "source": [
    "La Clave Única de Registro de Población, mejor conocida como CURP, es un instrumento que sirve para registrar en forma individual a todos los habitantes de México, nacionales y extranjeros, así como a las mexicanas y mexicanos que radican en otros países.\n",
    "\n",
    "La CURP contiene 18 elementos de un código alfanumérico; 16 de ellos son la primer letra y primer vocal interna del primer apellido, primer letra del segundo apellido, primer letra del primer nombre, año, mes y día de la fecha de nacimiento; género, las dos letras del lugar de nacimiento de acuerdo al código de la Entidad Federativa.\n",
    "\n",
    "Después, las primeras consonantes internas de cada uno de los apellidos y nombre  y por último, los dos últimos dígitos que son asignados por el Registro Nacional de la Población."
   ]
  },
  {
   "cell_type": "code",
   "execution_count": 22,
   "metadata": {},
   "outputs": [
    {
     "name": "stdout",
     "output_type": "stream",
     "text": [
      "El CURP ^[A-Z]{4}[0-9]{6}[H,M][A-Z]{2}[A-Z]{3}[0-9]{2}$ es  válido.\n"
     ]
    }
   ],
   "source": [
    "import re\n",
    "\n",
    "pattern = r'^[A-Z]{4}[0-9]{6}[H,M][A-Z]{2}[A-Z]{3}[0-9]{2}$'\n",
    "\n",
    "curp = \"HURM991219HDFRMC00\"\n",
    "\n",
    "if re.match(pattern, curp):\n",
    "    print(f\"El CURP {pattern} es  válido.\")\n",
    "else:\n",
    "    print(f\"El CURP {pattern} no es válido.\")"
   ]
  },
  {
   "cell_type": "markdown",
   "metadata": {},
   "source": [
    "__Número de telefono__"
   ]
  },
  {
   "cell_type": "markdown",
   "metadata": {},
   "source": [
    "El prefijo internacional de México que debes marcar en las llamadas desde el extranjero es el +52. En el caso de que llames a un teléfono móvil deberás añadir un 1 después del +52.\n",
    "\n",
    "Los números de teléfono mexicanos tienen diez dígitos (dos de prefijo más ocho de número o tres de prefijo más siete de número). Para conocer los prefijos de cada ciudad puedes consultar la web Country Code. Los únicos que tienen dos dígitos son Ciudad de México, Monterrey y Guadalajara, el resto son de tres."
   ]
  },
  {
   "cell_type": "code",
   "execution_count": 23,
   "metadata": {},
   "outputs": [
    {
     "name": "stdout",
     "output_type": "stream",
     "text": [
      "+525548701797 es un número de teléfono válido en México.\n"
     ]
    }
   ],
   "source": [
    "\n",
    "pattern = r'\\+52\\d{10}$'\n",
    "\n",
    "num = \"+525548701797\"  # Móvil\n",
    "\n",
    "if re.match(pattern, num):\n",
    "    print (f\"{num} es un número de teléfono válido en México.\")\n",
    "else:\n",
    "    print (f\"{num} no es un número de teléfono válido en México.\")\n",
    "\n"
   ]
  },
  {
   "cell_type": "markdown",
   "metadata": {},
   "source": [
    "__RFC__"
   ]
  },
  {
   "cell_type": "markdown",
   "metadata": {},
   "source": [
    "__¿Cómo se construye?__\n",
    "\n",
    " __RFC de personas físicas__\n",
    "* Primera y segunda letra del apellido paterno\n",
    "* Primera letra del segundo apellido\n",
    "* Inicial del primer nombre del contribuyente\n",
    "* Fecha de nacimiento en el siguiente orden: año, mes, día.\n",
    "* Homoclave asignada por el SAT\n",
    " \n",
    "\n",
    " __RFC de personas morales__\n",
    "* Primeras letras de las palabras que componen el nombre de la empresa. Por ejemplo, si el nombre de la empresa está formado así: Grupo Industrial Mexicano, S. de R.L. se toman en cuenta las letras “GIM”, mientras que las abreviaturas del tipo de sociedad se omiten.\n",
    "* Fecha de constitución de la empresa en el siguiente orden: año, mes, día.\n",
    "* Homoclave asignada por el SAT"
   ]
  },
  {
   "cell_type": "code",
   "execution_count": 24,
   "metadata": {},
   "outputs": [
    {
     "name": "stdout",
     "output_type": "stream",
     "text": [
      "El RFC HURM991219C00 es válido para una persona física.\n"
     ]
    }
   ],
   "source": [
    "\n",
    "\n",
    "pattern_persona_fisica = r'^[A-Z]{4}[0-9]{6}[A-Z0-9]{3}$'\n",
    "\n",
    "rfc_persona_fisica = \"HURM991219C00\"\n",
    "\n",
    "if re.match(pattern_persona_fisica, rfc_persona_fisica):\n",
    "    print(f\"El RFC {rfc_persona_fisica} es válido para una persona física.\")\n",
    "else:\n",
    "    print(f\"El RFC {rfc_persona_fisica} no es válido para una persona física.\")\n"
   ]
  },
  {
   "cell_type": "code",
   "execution_count": 25,
   "metadata": {},
   "outputs": [
    {
     "name": "stdout",
     "output_type": "stream",
     "text": [
      "El RFC ISB840628IB2 es válido para una persona moral.\n"
     ]
    }
   ],
   "source": [
    "\n",
    "\n",
    "pattern_persona_moral = r'^[A-Z]{3}[0-9]{6}[A-Z0-9]{3}$'\n",
    "\n",
    "rfc_persona_moral = \"ISB840628IB2\"\n",
    "\n",
    "if re.match(pattern_persona_moral, rfc_persona_moral):\n",
    "    print(f\"El RFC {rfc_persona_moral} es válido para una persona moral.\")\n",
    "else:\n",
    "    print(f\"El RFC {rfc_persona_moral} no es válido para una persona moral.\")\n"
   ]
  },
  {
   "cell_type": "markdown",
   "metadata": {},
   "source": [
    "__URL__"
   ]
  },
  {
   "cell_type": "code",
   "execution_count": 26,
   "metadata": {},
   "outputs": [
    {
     "name": "stdout",
     "output_type": "stream",
     "text": [
      "La URL https://www.ipn.com.mx/666?search=python&name=juan&age=20&email=juan@ipn es válida.\n"
     ]
    }
   ],
   "source": [
    "\n",
    "\n",
    "pattern_url = r'^(https?|http)://[^\\s/$.?#].[^\\s]*$'\n",
    "\n",
    "url = \"https://www.ipn.com.mx/666?search=python&name=juan&age=20&email=juan@ipn\"\n",
    "\n",
    "if re.match(pattern_url, url):\n",
    "    print(f\"La URL {url} es válida.\")\n",
    "else:\n",
    "    print(f\"La URL {url} no es válida.\")\n"
   ]
  },
  {
   "cell_type": "markdown",
   "metadata": {},
   "source": [
    "__Boleta del IPN__"
   ]
  },
  {
   "cell_type": "markdown",
   "metadata": {},
   "source": [
    "Una boleta del ipn se conforma mediante estos datos ->\n",
    "\n",
    "2016090319\n",
    "\n",
    "2016 -> Año de ingreso\n",
    "09 -> Unidad academica\n",
    "03 -> Carrera\n",
    "19 -> Numeros aletorios\n"
   ]
  },
  {
   "cell_type": "code",
   "execution_count": 27,
   "metadata": {},
   "outputs": [
    {
     "name": "stdout",
     "output_type": "stream",
     "text": [
      "La boleta 2016090319 es válida.\n"
     ]
    }
   ],
   "source": [
    "\n",
    "\n",
    "pattern_boleta_ipn = r'^\\d{4}(0[1-9]|1[0-2])(0[1-9]|1[0-9]|2[0-4])\\d{2}$'\n",
    "\n",
    "boleta = \"2016090319\"\n",
    "\n",
    "if re.match(pattern_boleta_ipn, boleta):\n",
    "    print(f\"La boleta {boleta} es válida.\")\n",
    "else:\n",
    "    print(f\"La boleta {boleta} no es válida.\")\n"
   ]
  },
  {
   "cell_type": "markdown",
   "metadata": {},
   "source": [
    "__Fecha y Hora__"
   ]
  },
  {
   "cell_type": "markdown",
   "metadata": {},
   "source": [
    "Decidi utilizar el siguiente formato de fecha dd/MM/yyyy HH:mm:ss "
   ]
  },
  {
   "cell_type": "code",
   "execution_count": 28,
   "metadata": {},
   "outputs": [
    {
     "name": "stdout",
     "output_type": "stream",
     "text": [
      "La fecha y hora 15/09/2023 14:30:45 es válida.\n"
     ]
    }
   ],
   "source": [
    "\n",
    "pattern_fecha_hora = r'^(0[1-9]|[12]\\d|3[01])/(0[1-9]|1[0-2])/\\d{4} (?:[01]\\d|2[0-3]):[0-5]\\d:[0-5]\\d$'\n",
    "\n",
    "fecha_hora = \"15/09/2023 14:30:45\"\n",
    "\n",
    "if re.match(pattern_fecha_hora, fecha_hora):\n",
    "    print(f\"La fecha y hora {fecha_hora} es válida.\")\n",
    "else:\n",
    "    print(f\"La fecha y hora {fecha_hora} no es válida.\")\n"
   ]
  },
  {
   "cell_type": "markdown",
   "metadata": {},
   "source": [
    "__Direcciones I.P__\n",
    "\n"
   ]
  },
  {
   "cell_type": "markdown",
   "metadata": {},
   "source": [
    "ipv4"
   ]
  },
  {
   "cell_type": "code",
   "execution_count": 29,
   "metadata": {},
   "outputs": [
    {
     "name": "stdout",
     "output_type": "stream",
     "text": [
      "La dirección IP 192.168.1.1 es válida.\n"
     ]
    }
   ],
   "source": [
    "pattern_ipv4 = r'^(25[0-5]|2[0-4][0-9]|[01]?[0-9][0-9]?)\\.(25[0-5]|2[0-4][0-9]|[01]?[0-9][0-9]?)\\.(25[0-5]|2[0-4][0-9]|[01]?[0-9][0-9]?)\\.(25[0-5]|2[0-4][0-9]|[01]?[0-9][0-9]?)$'\n",
    "\n",
    "ip = \"192.168.1.1\"\n",
    "\n",
    "if re.match(pattern_ipv4, ip):\n",
    "    print(f\"La dirección IP {ip} es válida.\")\n",
    "else:\n",
    "    print(f\"La dirección IP {ip} no es válida.\")\n"
   ]
  },
  {
   "cell_type": "markdown",
   "metadata": {},
   "source": [
    "ipv6"
   ]
  },
  {
   "cell_type": "code",
   "execution_count": 30,
   "metadata": {},
   "outputs": [
    {
     "name": "stdout",
     "output_type": "stream",
     "text": [
      "La dirección IPv6 2001:0db8:85a3:0000:0000:8a2e:0370:7334 es válida.\n"
     ]
    }
   ],
   "source": [
    "import re\n",
    "\n",
    "pattern_ipv6 = r'^([0-9a-fA-F]{1,4}:){7}[0-9a-fA-F]{1,4}$'\n",
    "\n",
    "ip = \"2001:0db8:85a3:0000:0000:8a2e:0370:7334\"\n",
    "\n",
    "if re.match(pattern_ipv6, ip):\n",
    "    print(f\"La dirección IPv6 {ip} es válida.\")\n",
    "else:\n",
    "    print(f\"La dirección IPv6 {ip} no es válida.\")\n"
   ]
  }
 ],
 "metadata": {
  "kernelspec": {
   "display_name": "Python 3",
   "language": "python",
   "name": "python3"
  },
  "language_info": {
   "codemirror_mode": {
    "name": "ipython",
    "version": 3
   },
   "file_extension": ".py",
   "mimetype": "text/x-python",
   "name": "python",
   "nbconvert_exporter": "python",
   "pygments_lexer": "ipython3",
   "version": "3.11.1"
  },
  "orig_nbformat": 4
 },
 "nbformat": 4,
 "nbformat_minor": 2
}
