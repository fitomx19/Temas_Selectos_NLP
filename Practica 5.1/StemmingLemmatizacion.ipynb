{
 "cells": [
  {
   "cell_type": "markdown",
   "metadata": {},
   "source": [
    "### Stemming y Lematización"
   ]
  },
  {
   "cell_type": "code",
   "execution_count": null,
   "metadata": {},
   "outputs": [],
   "source": [
    "import nltk\n",
    "import string\n",
    "from nltk.stem import PorterStemmer\n",
    "from nltk.stem import WordNetLemmatizer\n",
    "from nltk.tokenize import word_tokenize"
   ]
  },
  {
   "cell_type": "code",
   "execution_count": null,
   "metadata": {},
   "outputs": [],
   "source": [
    "nltk.download('wordnet')\n",
    "nltk.download('omw-1.4')\n",
    "nltk.download('punkt')"
   ]
  },
  {
   "cell_type": "code",
   "execution_count": null,
   "metadata": {},
   "outputs": [],
   "source": [
    " \n",
    "example_words = ['Run', 'Running', 'Ran', 'Cats', 'Catty', 'Running']\n",
    "\n",
    " \n",
    "ps = PorterStemmer()\n",
    "wnl = WordNetLemmatizer()\n",
    "\n",
    "\n",
    "\n",
    "\n"
   ]
  },
  {
   "cell_type": "code",
   "execution_count": null,
   "metadata": {},
   "outputs": [],
   "source": [
    "# Stemming\n",
    "print('{:20}{:20}'.format('--Palabra--', '--Stem--'))\n",
    "for word in example_words:\n",
    "    print('{:20}{:20}'.format(word, ps.stem(word)))\n",
    "\n"
   ]
  },
  {
   "cell_type": "code",
   "execution_count": null,
   "metadata": {},
   "outputs": [],
   "source": [
    "# Lematización\n",
    "print('{:20}{:20}'.format('--Palabra--', '--Lema--'))\n",
    "for word in example_words:\n",
    "    print('{:20}{:20}'.format(word, wnl.lemmatize(word, pos='v')))"
   ]
  },
  {
   "cell_type": "code",
   "execution_count": null,
   "metadata": {},
   "outputs": [],
   "source": [
    "example_sentence = 'The foxes are running through the forests'\n",
    "\n",
    "\n",
    "example_sentence_no_punct = example_sentence.translate(str.maketrans('', '', string.punctuation))\n",
    "\n",
    "\n",
    "word_tokens = word_tokenize(example_sentence_no_punct)\n",
    "\n",
    "print('{:20}{:20}'.format('--Palabra--', '--Stem--'))\n",
    "for word in word_tokens:\n",
    "    print('{:20}{:20}'.format(word, ps.stem(word)))\n",
    "\n",
    "\n",
    "print('{:20}{:20}'.format('--Palabra--', '--Lema--'))\n",
    "for word in word_tokens:\n",
    "    print('{:20}{:20}'.format(word, wnl.lemmatize(word, pos='v')))"
   ]
  }
 ],
 "metadata": {
  "language_info": {
   "name": "python"
  }
 },
 "nbformat": 4,
 "nbformat_minor": 2
}
