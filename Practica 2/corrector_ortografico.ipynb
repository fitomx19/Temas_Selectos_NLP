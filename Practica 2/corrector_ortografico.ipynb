{
 "cells": [
  {
   "cell_type": "markdown",
   "metadata": {},
   "source": [
    "### Corrector Ortografico "
   ]
  },
  {
   "cell_type": "markdown",
   "metadata": {},
   "source": [
    "__TODO:__ Crear una funcion en python que pueda dar sugerencias ortograficas de las palabras ingresadas, basadas en un diccionaria de 52 palabras de diferentes comidas. "
   ]
  },
  {
   "cell_type": "code",
   "execution_count": 38,
   "metadata": {},
   "outputs": [],
   "source": [
    "import numpy as np"
   ]
  },
  {
   "cell_type": "code",
   "execution_count": 39,
   "metadata": {},
   "outputs": [],
   "source": [
    "comidas = {\n",
    "    \"Pizza\",\n",
    "    \"Hamburguesa\",\n",
    "    \"Sushi\",\n",
    "    \"Tacos\",\n",
    "    \"Espagueti\",\n",
    "    \"Ensalada\",\n",
    "    \"Hotdog\",\n",
    "    \"Sandwich\",\n",
    "    \"Galleta\",\n",
    "    \"Pollo\",\n",
    "    \"Tarta\",\n",
    "    \"Queso\",\n",
    "    \"Pastel\",\n",
    "    \"Carne\",\n",
    "    \"Pescado\",\n",
    "    \"Arroz\",\n",
    "    \"Fideo\",\n",
    "    \"Pan\",\n",
    "    \"Churro\",\n",
    "    \"Helado\",\n",
    "    \"Sopa\",\n",
    "    \"Cereal\",\n",
    "    \"Chocolate\",\n",
    "    \"Frutas\",\n",
    "    \"Yogurt\",\n",
    "    \"Palomitas\",\n",
    "    \"Tostada\",\n",
    "    \"Dona\",\n",
    "    \"Pudín\",\n",
    "    \"Ceviche\",\n",
    "    \"Tortilla\",\n",
    "    \"Empanada\",\n",
    "    \"Crepes\",\n",
    "    \"Salchicha\",\n",
    "    \"Nachos\",\n",
    "    \"Waffles\",\n",
    "    \"Caldo\",\n",
    "    \"Pepitos\",\n",
    "    \"Burrito\",\n",
    "    \"Curry\",\n",
    "    \"Alitas\",\n",
    "    \"Chuleta\",\n",
    "    \"Aceitunas\",\n",
    "    \"Albóndigas\",\n",
    "    \"Tamales\",\n",
    "    \"Anchoas\",\n",
    "    \"Sardinas\",\n",
    "    \"Atún\",\n",
    "    \"Bistec\",\n",
    "    \"Sope\",\n",
    "    \"Pambazo\"\n",
    "}\n"
   ]
  },
  {
   "cell_type": "markdown",
   "metadata": {},
   "source": [
    "Dado que el dataset es propio y no son verbos no va ser necesario lemmatizar el texto, si no solamente pasar a minusculas en cuanto comparemos nuestro diccionario con la palabra ingresada"
   ]
  },
  {
   "cell_type": "markdown",
   "metadata": {},
   "source": [
    "__Procesamiento:__ Crear tokens y pasarlo a minusculas"
   ]
  },
  {
   "cell_type": "code",
   "execution_count": 40,
   "metadata": {},
   "outputs": [],
   "source": [
    "def palabra_a_vector(palabra):\n",
    "    vector = np.zeros(27)  # --> por las 27 letras del abecedario en español + ¿5 vocales con tilde?xs\n",
    "    for letra in palabra:\n",
    "        if 'a' <= letra <= 'z': # --> verificamos que sea una letra (no pueden ser números, no hay comidas con numeros)\n",
    "            indice = ord(letra) - ord('a') # -> calculamos su indice en el vector\n",
    "            vector[indice] += 1 #contamos cuantas veces aparece esa letra en la palabra\n",
    "    return vector"
   ]
  },
  {
   "cell_type": "code",
   "execution_count": 41,
   "metadata": {},
   "outputs": [
    {
     "name": "stdout",
     "output_type": "stream",
     "text": [
      "[1. 0. 0. 0. 0. 0. 0. 0. 1. 0. 0. 0. 0. 0. 0. 1. 0. 0. 0. 0. 0. 0. 0. 0.\n",
      " 0. 2. 0.]\n"
     ]
    }
   ],
   "source": [
    "test = palabra_a_vector(\"pizza\")\n",
    "print(test)"
   ]
  },
  {
   "cell_type": "markdown",
   "metadata": {},
   "source": [
    "### Similitud __coseno__ entre dos vectores mediante "
   ]
  },
  {
   "cell_type": "markdown",
   "metadata": {},
   "source": [
    "---------------------"
   ]
  },
  {
   "cell_type": "markdown",
   "metadata": {},
   "source": [
    "$ \\mathbf{A} $ y  $ \\mathbf{B} $ en un espacio vectorial, la similitud coseno entre estos se calcula asi:\n",
    "\n",
    "$ \\text{similitud}(\\mathbf{A}, \\mathbf{B}) = \\frac{{\\mathbf{A} \\cdot \\mathbf{B}}}{{\\|\\mathbf{A}\\| \\cdot \\|\\mathbf{B}\\|}} $\n",
    "\n",
    "\n",
    "- $ \\mathbf{A} \\cdot \\mathbf{B} $ representa el producto escalar entre los vectores  $\\mathbf{A}$ y  $\\mathbf{B}$.\n",
    "- $ \\mathbf{A} $ es la norma (longitud) del vector  $\\mathbf{A}$.\n",
    "- $ \\mathbf{B} $ es la norma (longitud) del vector  $\\mathbf{B}$."
   ]
  },
  {
   "cell_type": "code",
   "execution_count": 42,
   "metadata": {},
   "outputs": [],
   "source": [
    "def calcular_similitud(vector1, vector2):\n",
    "    return np.dot(vector1, vector2) / (np.linalg.norm(vector1) * np.linalg.norm(vector2))"
   ]
  },
  {
   "cell_type": "code",
   "execution_count": 55,
   "metadata": {},
   "outputs": [],
   "source": [
    "def corrector_comida(comidas_nuevas):\n",
    "    for x in comidas_nuevas:\n",
    "        sugerencias = []\n",
    "        # Convertir la entrada de usuario en un vector\n",
    "        vector_usuario = palabra_a_vector(x.lower())\n",
    "\n",
    "        for comida in comidas:\n",
    "            vector_comida = palabra_a_vector(comida.lower())\n",
    "            similitud = calcular_similitud(vector_usuario, vector_comida)\n",
    "            if similitud > 0.7:\n",
    "                sugerencias.append({\"comida\": comida, \"similitud\": similitud})\n",
    "        if sugerencias:\n",
    "            print(\"Sugerencias de : \" + x + \".\")\n",
    "            for sugerencia in sugerencias:\n",
    "                print(\"Palabra sugerida: \" + sugerencia['comida'] + \" con similitud de coseno -> \" + str(sugerencia['similitud']))\n",
    "            print(\"---------------\")\n",
    "        else:\n",
    "            print(\"Sugerencias de : \" + x + \".\")\n",
    "            print(\"No se encontraron sugerencias para la palabra \" + x + \".\")\n",
    "            print(\"---------------\")\n"
   ]
  },
  {
   "cell_type": "code",
   "execution_count": 56,
   "metadata": {},
   "outputs": [
    {
     "name": "stdout",
     "output_type": "stream",
     "text": [
      "Sugerencias de : Pitza.\n",
      "Palabra sugerida: Pizza con similitud de coseno -> 0.8451542547285165\n",
      "---------------\n",
      "Sugerencias de : amburguesa.\n",
      "Palabra sugerida: Hamburguesa con similitud de coseno -> 0.9660917830792959\n",
      "---------------\n",
      "Sugerencias de : JotDog.\n",
      "Palabra sugerida: Hotdog con similitud de coseno -> 0.8749999999999998\n",
      "---------------\n",
      "Sugerencias de : beefsteak.\n",
      "Palabra sugerida: Espagueti con similitud de coseno -> 0.7006490497453707\n",
      "---------------\n",
      "Sugerencias de : zardinas.\n",
      "Palabra sugerida: Albóndigas con similitud de coseno -> 0.7627700713964739\n",
      "Palabra sugerida: Ensalada con similitud de coseno -> 0.760638829255665\n",
      "Palabra sugerida: Sardinas con similitud de coseno -> 0.9128709291752769\n",
      "---------------\n",
      "Sugerencias de : pitáya.\n",
      "No se encontraron sugerencias para la palabra pitáya.\n",
      "---------------\n",
      "Sugerencias de : zope.\n",
      "Palabra sugerida: Sope con similitud de coseno -> 0.75\n",
      "---------------\n",
      "Sugerencias de : pezcado.\n",
      "Palabra sugerida: Pescado con similitud de coseno -> 0.857142857142857\n",
      "---------------\n",
      "Sugerencias de : takos.\n",
      "Palabra sugerida: Tacos con similitud de coseno -> 0.7999999999999998\n",
      "Palabra sugerida: Tostada con similitud de coseno -> 0.8090398349558905\n",
      "---------------\n"
     ]
    }
   ],
   "source": [
    "comidas_nuevas = [\"Pitza\", \"amburguesa\" , \"JotDog\", \"beefsteak\",\"zardinas\",\"pitáya\",\"zope\",\"pezcado\", \"takos\"]\n",
    "corrector_comida(comidas_nuevas)"
   ]
  },
  {
   "cell_type": "code",
   "execution_count": 47,
   "metadata": {},
   "outputs": [
    {
     "ename": "NameError",
     "evalue": "name 'sugerencias' is not defined",
     "output_type": "error",
     "traceback": [
      "\u001b[0;31m---------------------------------------------------------------------------\u001b[0m",
      "\u001b[0;31mNameError\u001b[0m                                 Traceback (most recent call last)",
      "\u001b[1;32m/Users/adolfohuerta/Desktop/Temas_Selectos_NLP/Practica 2/corrector_ortografico.ipynb Celda 15\u001b[0m line \u001b[0;36m1\n\u001b[0;32m----> <a href='vscode-notebook-cell:/Users/adolfohuerta/Desktop/Temas_Selectos_NLP/Practica%202/corrector_ortografico.ipynb#X21sZmlsZQ%3D%3D?line=0'>1</a>\u001b[0m sugerencias\n",
      "\u001b[0;31mNameError\u001b[0m: name 'sugerencias' is not defined"
     ]
    }
   ],
   "source": []
  },
  {
   "cell_type": "code",
   "execution_count": null,
   "metadata": {},
   "outputs": [],
   "source": []
  }
 ],
 "metadata": {
  "kernelspec": {
   "display_name": "Python 3",
   "language": "python",
   "name": "python3"
  },
  "language_info": {
   "codemirror_mode": {
    "name": "ipython",
    "version": 3
   },
   "file_extension": ".py",
   "mimetype": "text/x-python",
   "name": "python",
   "nbconvert_exporter": "python",
   "pygments_lexer": "ipython3",
   "version": "3.11.2"
  },
  "orig_nbformat": 4
 },
 "nbformat": 4,
 "nbformat_minor": 2
}
