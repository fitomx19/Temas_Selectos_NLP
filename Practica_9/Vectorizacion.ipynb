{
 "cells": [
  {
   "cell_type": "markdown",
   "metadata": {},
   "source": [
    "## Vectorizacion"
   ]
  },
  {
   "cell_type": "markdown",
   "metadata": {},
   "source": [
    "__Ejercicio integrador__ : Adolfo Huerta"
   ]
  },
  {
   "cell_type": "code",
   "execution_count": 14,
   "metadata": {},
   "outputs": [],
   "source": [
    "from nltk.tokenize import word_tokenize\n",
    "import nltk\n",
    "from nltk.stem import PorterStemmer\n",
    "from nltk.stem import WordNetLemmatizer\n",
    "from nltk.corpus import stopwords\n",
    "import string\n",
    "from gensim.models import Word2Vec"
   ]
  },
  {
   "cell_type": "markdown",
   "metadata": {},
   "source": [
    "1. Corrector Ortografico\n",
    "2. Tokenizacion (a mano)\n",
    "3. Steaming (con nltk)\n",
    "4. Lematizacion (con nltk)\n",
    "5. Contracciones (contractions)\n",
    "6. Normalizar (con nltk)\n",
    "7. Vectorizacion (word to vect)"
   ]
  },
  {
   "cell_type": "code",
   "execution_count": 15,
   "metadata": {},
   "outputs": [],
   "source": [
    "texto = \"\"\"\n",
    "EXODUS 20:1-17\n",
    "1. And God spoke all these words, saying:\n",
    "2. \"I am the Lord your God, who brought you out of the land of Egypt, out of the house of bondage.\n",
    "3. You shall have no other gods before Me.\n",
    "4. You shall not make for yourself a carved image—any likeness of anything that is in heaven above, or that is in the earth beneath, or that is in the water under the earth;\n",
    "5. you shall not bow down to them nor serve them. For I, the Lord your God, am a jelous God, visiting the iniquity of the fathers upon the children to the third and fourth generations of those who hate Me,\n",
    "6. but showing mercy to thousands, to those who love Me and keep My commandments.\n",
    "7. You shall not take the name of the Lord your God in vain, for the Lord will not hold him guiltless who takes His name in vain.\n",
    "8. Remember the Sabbath day, to keep it holy.\n",
    "9. Six days you shall labor and do all your work,\n",
    "10. but the seventh day is the Sabbath of the Lord your God. In it you shall do no work: you, nor your son, nor your daughter, nor your male servant, nor your female servant, nor your cattle, nor your stranger who is within your gates.\n",
    "11. For in six days the Lord made the heavens and the earth, the sea, and all that is in them, and rested the sevenh day. Therefore, the Lord blessed the Sabbath day and hallowed it.\n",
    "12. Honor your father and your moter, that your days may be long upon the land which the Lord your God is giving you.\n",
    "13. You shall not mrder.\n",
    "14. You shall not comit adultery.\n",
    "15. You shall not stal.\n",
    "16. You shall not bear false witness against your neighbor.\n",
    "17. You shall not covet your neighbor's house; you shall not covet your neighbor's wife, nor his male servant, nor his female servant, nor his ox, nor his donkey, nor anything that is your neighbor's.\"\n",
    "\"\"\""
   ]
  },
  {
   "cell_type": "markdown",
   "metadata": {},
   "source": [
    "### Revisión Ortográfica"
   ]
  },
  {
   "cell_type": "code",
   "execution_count": 16,
   "metadata": {},
   "outputs": [
    {
     "name": "stdout",
     "output_type": "stream",
     "text": [
      "Palabras corregidas: 53\n",
      "Palabras corregidas y sus correcciones: ['words', 'saying', 'i', 'god', 'egypt', 'bondage', 'me', 'above', 'beneath', 'earth', 'them', 'i', 'god', 'jealous', 'god', 'me', 'thousands', 'commandments', 'vain', 'vain', 'day', 'holy', 'work', 'god', 'work', 'you', 'son', 'daughter', 'servant', 'servant', 'cattle', 'gates', 'earth', 'sea', 'them', 'seven', 'day', 'therefore', 'it', 'mother', 'you', 'order', 'commit', 'adultery', 'stall', 'neighbors', 'house', 'wife', 'servant', 'servant', 'ox', 'donkey', \"neighbor's\"]\n",
      "Texto corregido:\n",
      "EXODUS 20:1-17 1. And God spoke all these words saying 2. i am the Lord your god who brought you out of the land of egypt out of the house of bondage 3. You shall have no other gods before me 4. You shall not make for yourself a carved image—any likeness of anything that is in heaven above or that is in the earth beneath or that is in the water under the earth 5. you shall not bow down to them nor serve them For i the Lord your god am a jealous god visiting the iniquity of the fathers upon the children to the third and fourth generations of those who hate me 6. but showing mercy to thousands to those who love Me and keep My commandments 7. You shall not take the name of the Lord your God in vain for the Lord will not hold him guiltless who takes His name in vain 8. Remember the Sabbath day to keep it holy 9. Six days you shall labor and do all your work 10. but the seventh day is the Sabbath of the Lord your god In it you shall do no work you nor your son nor your daughter nor your male servant nor your female servant nor your cattle nor your stranger who is within your gates 11. For in six days the Lord made the heavens and the earth the sea and all that is in them and rested the seven day therefore the Lord blessed the Sabbath day and hallowed it 12. Honor your father and your mother that your days may be long upon the land which the Lord your God is giving you 13. You shall not order 14. You shall not commit adultery 15. You shall not stall 16. You shall not bear false witness against your neighbors 17. You shall not covet your neighbor's house you shall not covet your neighbor's wife nor his male servant nor his female servant nor his ox nor his donkey nor anything that is your neighbor's\n"
     ]
    }
   ],
   "source": [
    "from spellchecker import SpellChecker\n",
    "\n",
    "def contar_palabras_corregidas(texto):\n",
    "    spell = SpellChecker()\n",
    "\n",
    "    # Dividir el texto en palabras\n",
    "    palabras = texto.split()\n",
    "\n",
    "    # Corregir ortografía y contar palabras corregidas\n",
    "    corregido = 0\n",
    "    palabras_corregidas = []\n",
    "    for i, palabra in enumerate(palabras):\n",
    "        correccion = spell.correction(palabra)\n",
    "        if correccion is not None and correccion != palabra:\n",
    "            corregido += 1\n",
    "            palabras_corregidas.append((palabra, correccion))\n",
    "            palabras[i] = correccion\n",
    "\n",
    "    # Filtrar palabras corregidas que no son None\n",
    "    palabras_corregidas = [palabra[1] for palabra in palabras_corregidas if palabra[1] is not None]\n",
    "\n",
    "    # Unir las palabras corregidas en un nuevo texto\n",
    "    texto_corregido = ' '.join(palabras)\n",
    "\n",
    "    return corregido, palabras_corregidas, texto_corregido\n",
    "\n",
    "\n",
    "\n",
    "corregido, palabras_corregidas, texto_corregido = contar_palabras_corregidas(texto)\n",
    "\n",
    "if texto_corregido:\n",
    "    print(f\"Palabras corregidas: {corregido}\")\n",
    "    print(f\"Palabras corregidas y sus correcciones: {palabras_corregidas}\")\n",
    "    print(f\"Texto corregido:\\n{texto_corregido}\")\n",
    "else:\n",
    "    print(\"No se encontraron palabras para corregir.\")\n"
   ]
  },
  {
   "cell_type": "code",
   "execution_count": 17,
   "metadata": {},
   "outputs": [
    {
     "name": "stdout",
     "output_type": "stream",
     "text": [
      "Palabras corregidas: ['words', 'saying', 'i', 'god', 'egypt', 'bondage', 'me', 'above', 'beneath', 'earth', 'them', 'i', 'god', 'jealous', 'god', 'me', 'thousands', 'commandments', 'vain', 'vain', 'day', 'holy', 'work', 'god', 'work', 'you', 'son', 'daughter', 'servant', 'servant', 'cattle', 'gates', 'earth', 'sea', 'them', 'seven', 'day', 'therefore', 'it', 'mother', 'you', 'order', 'commit', 'adultery', 'stall', 'neighbors', 'house', 'wife', 'servant', 'servant', 'ox', 'donkey', \"neighbor's\"]\n",
      "Texto corregido: EXODUS 20:1-17 1. And God spoke all these words saying 2. i am the Lord your god who brought you out of the land of egypt out of the house of bondage 3. You shall have no other gods before me 4. You shall not make for yourself a carved image—any likeness of anything that is in heaven above or that is in the earth beneath or that is in the water under the earth 5. you shall not bow down to them nor serve them For i the Lord your god am a jealous god visiting the iniquity of the fathers upon the children to the third and fourth generations of those who hate me 6. but showing mercy to thousands to those who love Me and keep My commandments 7. You shall not take the name of the Lord your God in vain for the Lord will not hold him guiltless who takes His name in vain 8. Remember the Sabbath day to keep it holy 9. Six days you shall labor and do all your work 10. but the seventh day is the Sabbath of the Lord your god In it you shall do no work you nor your son nor your daughter nor your male servant nor your female servant nor your cattle nor your stranger who is within your gates 11. For in six days the Lord made the heavens and the earth the sea and all that is in them and rested the seven day therefore the Lord blessed the Sabbath day and hallowed it 12. Honor your father and your mother that your days may be long upon the land which the Lord your God is giving you 13. You shall not order 14. You shall not commit adultery 15. You shall not stall 16. You shall not bear false witness against your neighbors 17. You shall not covet your neighbor's house you shall not covet your neighbor's wife nor his male servant nor his female servant nor his ox nor his donkey nor anything that is your neighbor's\n"
     ]
    }
   ],
   "source": [
    "print(\"Palabras corregidas: \" + str(palabras_corregidas))\n",
    "print(\"Texto corregido: \" + str(texto_corregido))"
   ]
  },
  {
   "cell_type": "markdown",
   "metadata": {},
   "source": [
    "\"EXODUS 20:1-17 \n",
    "1. And God spoke all these words saying \n",
    "2. i am the Lord your god who brought you out of the land of egypt out of the house of bondage \n",
    "3. You shall have no other gods before me \n",
    "4. You shall not make for yourself a carved image—any likeness of anything that is in heaven above or that is in the earth beneath or that is in the water under the earth \n",
    "5. you shall not bow down to them nor serve them For i the Lord your god am a jealous god visiting the iniquity of the fathers upon the children to the third and fourth generations of those who hate me \n",
    "6. but showing mercy to thousands to those who love Me and keep My commandments \n",
    "7. You shall not take the name of the Lord your God in vain for the Lord will not hold him guiltless who takes His name in vain \n",
    "8. Remember the Sabbath day to keep it holy \n",
    "9. Six days you shall labor and do all your work \n",
    "10. but the seventh day is the Sabbath of the Lord your god In it you shall do no work you nor your son nor your daughter nor your male servant nor your female servant nor your cattle nor your stranger who is within your gates \n",
    "11. For in six days the Lord made the heavens and the earth the sea and all that is in them and rested the seven day therefore the Lord blessed the Sabbath day and hallowed it \n",
    "12. Honor your father and your mother that your days may be long upon the land which the Lord your God is giving you \n",
    "13. You shall not order \n",
    "14. You shall not commit adultery \n",
    "15. You shall not stall \n",
    "16. You shall not bear false witness against your neighbors\n",
    "17. You shall not covet your neighbor's house you shall not covet your neighbor's wife nor his male servant nor his female servant nor his ox nor his donkey nor anything that is your neighbor's\""
   ]
  },
  {
   "cell_type": "markdown",
   "metadata": {},
   "source": [
    "__Resultado__ : El texto se corrigio correctamente"
   ]
  },
  {
   "cell_type": "code",
   "execution_count": 18,
   "metadata": {},
   "outputs": [
    {
     "name": "stdout",
     "output_type": "stream",
     "text": [
      "['EXODUS', '20:1-17', '1.', 'And', 'God', 'spoke', 'all', 'these', 'words', 'saying', '2.', 'i', 'am', 'the', 'Lord', 'your', 'god', 'who', 'brought', 'you', 'out', 'of', 'the', 'land', 'of', 'egypt', 'out', 'of', 'the', 'house', 'of', 'bondage', '3.', 'You', 'shall', 'have', 'no', 'other', 'gods', 'before', 'me', '4.', 'You', 'shall', 'not', 'make', 'for', 'yourself', 'a', 'carved', 'image—any', 'likeness', 'of', 'anything', 'that', 'is', 'in', 'heaven', 'above', 'or', 'that', 'is', 'in', 'the', 'earth', 'beneath', 'or', 'that', 'is', 'in', 'the', 'water', 'under', 'the', 'earth', '5.', 'you', 'shall', 'not', 'bow', 'down', 'to', 'them', 'nor', 'serve', 'them', 'For', 'i', 'the', 'Lord', 'your', 'god', 'am', 'a', 'jealous', 'god', 'visiting', 'the', 'iniquity', 'of', 'the', 'fathers', 'upon', 'the', 'children', 'to', 'the', 'third', 'and', 'fourth', 'generations', 'of', 'those', 'who', 'hate', 'me', '6.', 'but', 'showing', 'mercy', 'to', 'thousands', 'to', 'those', 'who', 'love', 'Me', 'and', 'keep', 'My', 'commandments', '7.', 'You', 'shall', 'not', 'take', 'the', 'name', 'of', 'the', 'Lord', 'your', 'God', 'in', 'vain', 'for', 'the', 'Lord', 'will', 'not', 'hold', 'him', 'guiltless', 'who', 'takes', 'His', 'name', 'in', 'vain', '8.', 'Remember', 'the', 'Sabbath', 'day', 'to', 'keep', 'it', 'holy', '9.', 'Six', 'days', 'you', 'shall', 'labor', 'and', 'do', 'all', 'your', 'work', '10.', 'but', 'the', 'seventh', 'day', 'is', 'the', 'Sabbath', 'of', 'the', 'Lord', 'your', 'god', 'In', 'it', 'you', 'shall', 'do', 'no', 'work', 'you', 'nor', 'your', 'son', 'nor', 'your', 'daughter', 'nor', 'your', 'male', 'servant', 'nor', 'your', 'female', 'servant', 'nor', 'your', 'cattle', 'nor', 'your', 'stranger', 'who', 'is', 'within', 'your', 'gates', '11.', 'For', 'in', 'six', 'days', 'the', 'Lord', 'made', 'the', 'heavens', 'and', 'the', 'earth', 'the', 'sea', 'and', 'all', 'that', 'is', 'in', 'them', 'and', 'rested', 'the', 'seven', 'day', 'therefore', 'the', 'Lord', 'blessed', 'the', 'Sabbath', 'day', 'and', 'hallowed', 'it', '12.', 'Honor', 'your', 'father', 'and', 'your', 'mother', 'that', 'your', 'days', 'may', 'be', 'long', 'upon', 'the', 'land', 'which', 'the', 'Lord', 'your', 'God', 'is', 'giving', 'you', '13.', 'You', 'shall', 'not', 'order', '14.', 'You', 'shall', 'not', 'commit', 'adultery', '15.', 'You', 'shall', 'not', 'stall', '16.', 'You', 'shall', 'not', 'bear', 'false', 'witness', 'against', 'your', 'neighbors', '17.', 'You', 'shall', 'not', 'covet', 'your', \"neighbor's\", 'house', 'you', 'shall', 'not', 'covet', 'your', \"neighbor's\", 'wife', 'nor', 'his', 'male', 'servant', 'nor', 'his', 'female', 'servant', 'nor', 'his', 'ox', 'nor', 'his', 'donkey', 'nor', 'anything', 'that', 'is', 'your', \"neighbor's\"]\n",
      "Total de tokens: 346\n"
     ]
    }
   ],
   "source": [
    "palabras_tokens = texto_corregido.split()\n",
    "\n",
    "print(palabras_tokens)\n",
    "print(\"Total de tokens: \" + str(len(palabras_tokens)))"
   ]
  },
  {
   "cell_type": "markdown",
   "metadata": {},
   "source": [
    "### Stemming (con nltk):"
   ]
  },
  {
   "cell_type": "code",
   "execution_count": 19,
   "metadata": {},
   "outputs": [
    {
     "name": "stdout",
     "output_type": "stream",
     "text": [
      "Palabras después de stemming:\n",
      "['exodu', '20:1-17', '1.', 'and', 'god', 'spoke', 'all', 'these', 'word', 'say', '2.', 'i', 'am', 'the', 'lord', 'your', 'god', 'who', 'brought', 'you', 'out', 'of', 'the', 'land', 'of', 'egypt', 'out', 'of', 'the', 'hous', 'of', 'bondag', '3.', 'you', 'shall', 'have', 'no', 'other', 'god', 'befor', 'me', '4.', 'you', 'shall', 'not', 'make', 'for', 'yourself', 'a', 'carv', 'image—ani', 'like', 'of', 'anyth', 'that', 'is', 'in', 'heaven', 'abov', 'or', 'that', 'is', 'in', 'the', 'earth', 'beneath', 'or', 'that', 'is', 'in', 'the', 'water', 'under', 'the', 'earth', '5.', 'you', 'shall', 'not', 'bow', 'down', 'to', 'them', 'nor', 'serv', 'them', 'for', 'i', 'the', 'lord', 'your', 'god', 'am', 'a', 'jealou', 'god', 'visit', 'the', 'iniqu', 'of', 'the', 'father', 'upon', 'the', 'children', 'to', 'the', 'third', 'and', 'fourth', 'gener', 'of', 'those', 'who', 'hate', 'me', '6.', 'but', 'show', 'merci', 'to', 'thousand', 'to', 'those', 'who', 'love', 'me', 'and', 'keep', 'my', 'command', '7.', 'you', 'shall', 'not', 'take', 'the', 'name', 'of', 'the', 'lord', 'your', 'god', 'in', 'vain', 'for', 'the', 'lord', 'will', 'not', 'hold', 'him', 'guiltless', 'who', 'take', 'hi', 'name', 'in', 'vain', '8.', 'rememb', 'the', 'sabbath', 'day', 'to', 'keep', 'it', 'holi', '9.', 'six', 'day', 'you', 'shall', 'labor', 'and', 'do', 'all', 'your', 'work', '10.', 'but', 'the', 'seventh', 'day', 'is', 'the', 'sabbath', 'of', 'the', 'lord', 'your', 'god', 'in', 'it', 'you', 'shall', 'do', 'no', 'work', 'you', 'nor', 'your', 'son', 'nor', 'your', 'daughter', 'nor', 'your', 'male', 'servant', 'nor', 'your', 'femal', 'servant', 'nor', 'your', 'cattl', 'nor', 'your', 'stranger', 'who', 'is', 'within', 'your', 'gate', '11.', 'for', 'in', 'six', 'day', 'the', 'lord', 'made', 'the', 'heaven', 'and', 'the', 'earth', 'the', 'sea', 'and', 'all', 'that', 'is', 'in', 'them', 'and', 'rest', 'the', 'seven', 'day', 'therefor', 'the', 'lord', 'bless', 'the', 'sabbath', 'day', 'and', 'hallow', 'it', '12.', 'honor', 'your', 'father', 'and', 'your', 'mother', 'that', 'your', 'day', 'may', 'be', 'long', 'upon', 'the', 'land', 'which', 'the', 'lord', 'your', 'god', 'is', 'give', 'you', '13.', 'you', 'shall', 'not', 'order', '14.', 'you', 'shall', 'not', 'commit', 'adulteri', '15.', 'you', 'shall', 'not', 'stall', '16.', 'you', 'shall', 'not', 'bear', 'fals', 'wit', 'against', 'your', 'neighbor', '17.', 'you', 'shall', 'not', 'covet', 'your', \"neighbor'\", 'hous', 'you', 'shall', 'not', 'covet', 'your', \"neighbor'\", 'wife', 'nor', 'hi', 'male', 'servant', 'nor', 'hi', 'femal', 'servant', 'nor', 'hi', 'ox', 'nor', 'hi', 'donkey', 'nor', 'anyth', 'that', 'is', 'your', \"neighbor'\"]\n",
      "\n",
      "Total de palabras después de stemming: 82\n"
     ]
    }
   ],
   "source": [
    "stemmer = PorterStemmer()\n",
    "\n",
    "# Aplicar stemming y contar\n",
    "stemmed = [stemmer.stem(palabra) for palabra in palabras_tokens]\n",
    "contador_stemming = sum(1 for original, stem in zip(palabras_tokens, stemmed) if original != stem)\n",
    "\n",
    "print(\"Palabras después de stemming:\")\n",
    "print(stemmed)\n",
    "print(f\"\\nTotal de palabras después de stemming: {contador_stemming}\")\n"
   ]
  },
  {
   "cell_type": "markdown",
   "metadata": {},
   "source": [
    "### Lematización (con nltk):"
   ]
  },
  {
   "cell_type": "code",
   "execution_count": 20,
   "metadata": {},
   "outputs": [
    {
     "name": "stdout",
     "output_type": "stream",
     "text": [
      "Palabras lematizadas:\n",
      "['EXODUS', '20:1-17', '1.', 'And', 'God', 'spoke', 'all', 'these', 'word', 'saying', '2.', 'i', 'am', 'the', 'Lord', 'your', 'god', 'who', 'brought', 'you', 'out', 'of', 'the', 'land', 'of', 'egypt', 'out', 'of', 'the', 'house', 'of', 'bondage', '3.', 'You', 'shall', 'have', 'no', 'other', 'god', 'before', 'me', '4.', 'You', 'shall', 'not', 'make', 'for', 'yourself', 'a', 'carved', 'image—any', 'likeness', 'of', 'anything', 'that', 'is', 'in', 'heaven', 'above', 'or', 'that', 'is', 'in', 'the', 'earth', 'beneath', 'or', 'that', 'is', 'in', 'the', 'water', 'under', 'the', 'earth', '5.', 'you', 'shall', 'not', 'bow', 'down', 'to', 'them', 'nor', 'serve', 'them', 'For', 'i', 'the', 'Lord', 'your', 'god', 'am', 'a', 'jealous', 'god', 'visiting', 'the', 'iniquity', 'of', 'the', 'father', 'upon', 'the', 'child', 'to', 'the', 'third', 'and', 'fourth', 'generation', 'of', 'those', 'who', 'hate', 'me', '6.', 'but', 'showing', 'mercy', 'to', 'thousand', 'to', 'those', 'who', 'love', 'Me', 'and', 'keep', 'My', 'commandment', '7.', 'You', 'shall', 'not', 'take', 'the', 'name', 'of', 'the', 'Lord', 'your', 'God', 'in', 'vain', 'for', 'the', 'Lord', 'will', 'not', 'hold', 'him', 'guiltless', 'who', 'take', 'His', 'name', 'in', 'vain', '8.', 'Remember', 'the', 'Sabbath', 'day', 'to', 'keep', 'it', 'holy', '9.', 'Six', 'day', 'you', 'shall', 'labor', 'and', 'do', 'all', 'your', 'work', '10.', 'but', 'the', 'seventh', 'day', 'is', 'the', 'Sabbath', 'of', 'the', 'Lord', 'your', 'god', 'In', 'it', 'you', 'shall', 'do', 'no', 'work', 'you', 'nor', 'your', 'son', 'nor', 'your', 'daughter', 'nor', 'your', 'male', 'servant', 'nor', 'your', 'female', 'servant', 'nor', 'your', 'cattle', 'nor', 'your', 'stranger', 'who', 'is', 'within', 'your', 'gate', '11.', 'For', 'in', 'six', 'day', 'the', 'Lord', 'made', 'the', 'heaven', 'and', 'the', 'earth', 'the', 'sea', 'and', 'all', 'that', 'is', 'in', 'them', 'and', 'rested', 'the', 'seven', 'day', 'therefore', 'the', 'Lord', 'blessed', 'the', 'Sabbath', 'day', 'and', 'hallowed', 'it', '12.', 'Honor', 'your', 'father', 'and', 'your', 'mother', 'that', 'your', 'day', 'may', 'be', 'long', 'upon', 'the', 'land', 'which', 'the', 'Lord', 'your', 'God', 'is', 'giving', 'you', '13.', 'You', 'shall', 'not', 'order', '14.', 'You', 'shall', 'not', 'commit', 'adultery', '15.', 'You', 'shall', 'not', 'stall', '16.', 'You', 'shall', 'not', 'bear', 'false', 'witness', 'against', 'your', 'neighbor', '17.', 'You', 'shall', 'not', 'covet', 'your', \"neighbor's\", 'house', 'you', 'shall', 'not', 'covet', 'your', \"neighbor's\", 'wife', 'nor', 'his', 'male', 'servant', 'nor', 'his', 'female', 'servant', 'nor', 'his', 'ox', 'nor', 'his', 'donkey', 'nor', 'anything', 'that', 'is', 'your', \"neighbor's\"]\n",
      "\n",
      "Total de palabras lematizadas: 14\n"
     ]
    }
   ],
   "source": [
    "lematizador = WordNetLemmatizer()\n",
    "\n",
    "# Aplicar lematización y contar\n",
    "lematizado = [lematizador.lemmatize(palabra) for palabra in palabras_tokens]\n",
    "contador_lematizaciones = sum(1 for original, lema in zip(palabras_tokens, lematizado) if original != lema)\n",
    "\n",
    "print(\"Palabras lematizadas:\")\n",
    "print(lematizado)\n",
    "print(f\"\\nTotal de palabras lematizadas: {contador_lematizaciones}\")\n"
   ]
  },
  {
   "cell_type": "markdown",
   "metadata": {},
   "source": [
    "### Contracciones"
   ]
  },
  {
   "cell_type": "code",
   "execution_count": 21,
   "metadata": {},
   "outputs": [
    {
     "name": "stdout",
     "output_type": "stream",
     "text": [
      "\n",
      "EXODUS 20:1-17\n",
      "1. And God spoke all these words, saying:\n",
      "2. \"I am the Lord your God, who brought you out of the land of Egypt, out of the house of bondage.\n",
      "3. You shall have no other gods before Me.\n",
      "4. You shall not make for yourself a carved image—any likeness of anything that is in heaven above, or that is in the earth beneath, or that is in the water under the earth;\n",
      "5. you shall not bow down to them nor serve them. For I, the Lord your God, am a jelous God, visiting the iniquity of the fathers upon the children to the third and fourth generations of those who hate Me,\n",
      "6. but showing mercy to thousands, to those who love Me and keep My commandments.\n",
      "7. You shall not take the name of the Lord your God in vain, for the Lord will not hold him guiltless who takes His name in vain.\n",
      "8. Remember the Sabbath day, to keep it holy.\n",
      "9. Six days you shall labor and do all your work,\n",
      "10. but the seventh day is the Sabbath of the Lord your God. In it you shall do no work: you, nor your son, nor your daughter, nor your male servant, nor your female servant, nor your cattle, nor your stranger who is within your gates.\n",
      "11. For in six days the Lord made the heavens and the earth, the sea, and all that is in them, and rested the sevenh day. Therefore, the Lord blessed the Sabbath day and hallowed it.\n",
      "12. Honor your father and your moter, that your days may be long upon the land which the Lord your God is giving you.\n",
      "13. You shall not mrder.\n",
      "14. You shall not comit adultery.\n",
      "15. You shall not stal.\n",
      "16. You shall not bear false witness against your neighbor.\n",
      "17. You shall not covet your neighbor's house; you shall not covet your neighbor's wife, nor his male servant, nor his female servant, nor his ox, nor his donkey, nor anything that is your neighbor's.\"\n",
      "\n",
      "\n",
      "Total de contracciones reemplazadas: 0\n"
     ]
    }
   ],
   "source": [
    "contracciones = {\n",
    "    \"I'm\": \"I am\", \"you're\": \"you are\", \"he's\": \"he is\", \"she's\": \"she is\", \"it's\": \"it is\", \"we're\": \"we are\", \"they're\": \"they are\",\n",
    "    \"I've\": \"I have\", \"you've\": \"you have\", \"he's\": \"he has\", \"she's\": \"she has\", \"it's\": \"it has\", \"we've\": \"we have\", \"they've\": \"they have\",\n",
    "    \"I'd\": \"I would\", \"you'd\": \"you would\", \"he'd\": \"he would\", \"she'd\": \"she would\", \"it'd\": \"it would\", \"we'd\": \"we would\", \"they'd\": \"they would\",\n",
    "    \"I'll\": \"I will\", \"you'll\": \"you will\", \"he'll\": \"he will\", \"she'll\": \"she will\", \"it'll\": \"it will\", \"we'll\": \"we will\", \"they'll\": \"they will\",\n",
    "    \"isn't\": \"is not\", \"aren't\": \"are not\", \"wasn't\": \"was not\", \"weren't\": \"were not\", \"haven't\": \"have not\", \"hasn't\": \"has not\", \"hadn't\": \"had not\",\n",
    "    \"don't\": \"do not\", \"doesn't\": \"does not\", \"didn't\": \"did not\", \"won't\": \"will not\", \"wouldn't\": \"would not\", \"shan't\": \"shall not\", \"shouldn't\": \"should not\",\n",
    "    \"can't\": \"cannot\", \"couldn't\": \"could not\", \"mustn't\": \"must not\", \"mightn't\": \"might not\"\n",
    "}\n",
    "\n",
    "# Reemplazar contracciones y contar\n",
    "contador_reemplazos = 0\n",
    "for contraccion, expansion in contracciones.items():\n",
    "    texto, num_reemplazos = texto.replace(contraccion, expansion, 1), texto.count(contraccion)\n",
    "    contador_reemplazos += num_reemplazos\n",
    "\n",
    "print(texto)\n",
    "print(f\"\\nTotal de contracciones reemplazadas: {contador_reemplazos}\")\n",
    "\n"
   ]
  },
  {
   "cell_type": "code",
   "execution_count": 22,
   "metadata": {},
   "outputs": [
    {
     "name": "stdout",
     "output_type": "stream",
     "text": [
      "Palabras originales:\n",
      "['exodus', 'and', 'god', 'spoke', 'all', 'these', 'words', 'saying', 'i', 'am', 'the', 'lord', 'your', 'god', 'who', 'brought', 'you', 'out', 'of', 'the', 'land', 'of', 'egypt', 'out', 'of', 'the', 'house', 'of', 'bondage', 'you', 'shall', 'have', 'no', 'other', 'gods', 'before', 'me', 'you', 'shall', 'not', 'make', 'for', 'yourself', 'a', 'carved', 'image—any', 'likeness', 'of', 'anything', 'that', 'is', 'in', 'heaven', 'above', 'or', 'that', 'is', 'in', 'the', 'earth', 'beneath', 'or', 'that', 'is', 'in', 'the', 'water', 'under', 'the', 'earth', 'you', 'shall', 'not', 'bow', 'down', 'to', 'them', 'nor', 'serve', 'them', 'for', 'i', 'the', 'lord', 'your', 'god', 'am', 'a', 'jelous', 'god', 'visiting', 'the', 'iniquity', 'of', 'the', 'fathers', 'upon', 'the', 'children', 'to', 'the', 'third', 'and', 'fourth', 'generations', 'of', 'those', 'who', 'hate', 'me', 'but', 'showing', 'mercy', 'to', 'thousands', 'to', 'those', 'who', 'love', 'me', 'and', 'keep', 'my', 'commandments', 'you', 'shall', 'not', 'take', 'the', 'name', 'of', 'the', 'lord', 'your', 'god', 'in', 'vain', 'for', 'the', 'lord', 'will', 'not', 'hold', 'him', 'guiltless', 'who', 'takes', 'his', 'name', 'in', 'vain', 'remember', 'the', 'sabbath', 'day', 'to', 'keep', 'it', 'holy', 'six', 'days', 'you', 'shall', 'labor', 'and', 'do', 'all', 'your', 'work', 'but', 'the', 'seventh', 'day', 'is', 'the', 'sabbath', 'of', 'the', 'lord', 'your', 'god', 'in', 'it', 'you', 'shall', 'do', 'no', 'work', 'you', 'nor', 'your', 'son', 'nor', 'your', 'daughter', 'nor', 'your', 'male', 'servant', 'nor', 'your', 'female', 'servant', 'nor', 'your', 'cattle', 'nor', 'your', 'stranger', 'who', 'is', 'within', 'your', 'gates', 'for', 'in', 'six', 'days', 'the', 'lord', 'made', 'the', 'heavens', 'and', 'the', 'earth', 'the', 'sea', 'and', 'all', 'that', 'is', 'in', 'them', 'and', 'rested', 'the', 'sevenh', 'day', 'therefore', 'the', 'lord', 'blessed', 'the', 'sabbath', 'day', 'and', 'hallowed', 'it', 'honor', 'your', 'father', 'and', 'your', 'moter', 'that', 'your', 'days', 'may', 'be', 'long', 'upon', 'the', 'land', 'which', 'the', 'lord', 'your', 'god', 'is', 'giving', 'you', 'you', 'shall', 'not', 'mrder', 'you', 'shall', 'not', 'comit', 'adultery', 'you', 'shall', 'not', 'stal', 'you', 'shall', 'not', 'bear', 'false', 'witness', 'against', 'your', 'neighbor', 'you', 'shall', 'not', 'covet', 'your', 'neighbor', 's', 'house', 'you', 'shall', 'not', 'covet', 'your', 'neighbor', 's', 'wife', 'nor', 'his', 'male', 'servant', 'nor', 'his', 'female', 'servant', 'nor', 'his', 'ox', 'nor', 'his', 'donkey', 'nor', 'anything', 'that', 'is', 'your', 'neighbor', 's']\n",
      "\n",
      "Total de palabras originales: 331\n",
      "\n",
      "Palabras después de filtrar stopwords:\n",
      "['exodus', 'god', 'spoke', 'words', 'saying', 'lord', 'god', 'brought', 'land', 'egypt', 'house', 'bondage', 'shall', 'gods', 'shall', 'make', 'carved', 'image—any', 'likeness', 'anything', 'heaven', 'earth', 'beneath', 'water', 'earth', 'shall', 'bow', 'serve', 'lord', 'god', 'jelous', 'god', 'visiting', 'iniquity', 'fathers', 'upon', 'children', 'third', 'fourth', 'generations', 'hate', 'showing', 'mercy', 'thousands', 'love', 'keep', 'commandments', 'shall', 'take', 'name', 'lord', 'god', 'vain', 'lord', 'hold', 'guiltless', 'takes', 'name', 'vain', 'remember', 'sabbath', 'day', 'keep', 'holy', 'six', 'days', 'shall', 'labor', 'work', 'seventh', 'day', 'sabbath', 'lord', 'god', 'shall', 'work', 'son', 'daughter', 'male', 'servant', 'female', 'servant', 'cattle', 'stranger', 'within', 'gates', 'six', 'days', 'lord', 'made', 'heavens', 'earth', 'sea', 'rested', 'sevenh', 'day', 'therefore', 'lord', 'blessed', 'sabbath', 'day', 'hallowed', 'honor', 'father', 'moter', 'days', 'may', 'long', 'upon', 'land', 'lord', 'god', 'giving', 'shall', 'mrder', 'shall', 'comit', 'adultery', 'shall', 'stal', 'shall', 'bear', 'false', 'witness', 'neighbor', 'shall', 'covet', 'neighbor', 'house', 'shall', 'covet', 'neighbor', 'wife', 'male', 'servant', 'female', 'servant', 'ox', 'donkey', 'anything', 'neighbor']\n",
      "\n",
      "Total de palabras después de filtrar stopwords: 141\n"
     ]
    }
   ],
   "source": [
    " # Convertir a minúsculas\n",
    "texto = texto.lower()\n",
    "\n",
    "#eliminar numeros\n",
    "texto = ''.join([i for i in texto if not i.isdigit()])\n",
    "\n",
    "#eliminar caracteres especiales\n",
    "texto = texto.replace('\\n',' ')\n",
    "texto = texto.replace('\\t',' ')\n",
    "texto = texto.replace('\\'',' ')\n",
    "texto = texto.replace('\\\"',' ')\n",
    "texto = texto.replace('(',' ')\n",
    "texto = texto.replace(')',' ')\n",
    "texto = texto.replace('[',' ')\n",
    "texto = texto.replace(']',' ')\n",
    "\n",
    "# Eliminar puntuación\n",
    "texto = texto.translate(str.maketrans(\"\", \"\", string.punctuation))\n",
    "\n",
    "# Eliminar stopwords (palabras comunes pero sin mucho significado)\n",
    "stop_words = set(stopwords.words('english'))\n",
    "palabras = nltk.word_tokenize(texto)\n",
    "palabras_filtradas = [palabra for palabra in palabras if palabra not in stop_words]\n",
    "\n",
    "# Contadores\n",
    "contador_palabras_originales = len(palabras)\n",
    "contador_palabras_filtradas = len(palabras_filtradas)\n",
    "\n",
    "print(\"Palabras originales:\")\n",
    "print(palabras)\n",
    "print(f\"\\nTotal de palabras originales: {contador_palabras_originales}\\n\")\n",
    "\n",
    "print(\"Palabras después de filtrar stopwords:\")\n",
    "print(palabras_filtradas)\n",
    "print(f\"\\nTotal de palabras después de filtrar stopwords: {contador_palabras_filtradas}\")\n"
   ]
  },
  {
   "cell_type": "code",
   "execution_count": 23,
   "metadata": {},
   "outputs": [
    {
     "data": {
      "text/plain": [
       "'words'"
      ]
     },
     "execution_count": 23,
     "metadata": {},
     "output_type": "execute_result"
    }
   ],
   "source": [
    "palabras_filtradas[3]"
   ]
  },
  {
   "cell_type": "code",
   "execution_count": 24,
   "metadata": {},
   "outputs": [
    {
     "name": "stdout",
     "output_type": "stream",
     "text": [
      "[ 1.1792841e-04  3.1215812e-03 -6.8171569e-03 -1.3707770e-03\n",
      "  7.7073541e-03  7.2895675e-03 -3.6341494e-03  2.7324157e-03\n",
      " -8.3568487e-03  6.1597289e-03 -4.6411892e-03 -3.2168045e-03\n",
      "  9.3264440e-03  8.9283974e-04  7.5227581e-03 -6.0902429e-03\n",
      "  5.1549561e-03  9.9086389e-03 -8.4440894e-03 -5.2081957e-03\n",
      " -7.0514018e-03 -4.8645549e-03 -3.7675356e-03 -8.5600968e-03\n",
      "  7.9477392e-03 -4.8730453e-03  8.4012011e-03  5.2359775e-03\n",
      " -6.5731993e-03  3.9448058e-03  5.5168695e-03 -7.4274261e-03\n",
      " -7.3559727e-03 -2.5164394e-03 -8.6275851e-03 -1.5458072e-03\n",
      " -3.7669978e-04  3.2916649e-03  1.4283489e-03 -9.3362905e-04\n",
      " -5.6146411e-03  1.7159041e-03 -9.0796291e-04  6.7953379e-03\n",
      "  3.9884024e-03  4.5129065e-03  1.4273040e-03 -2.7109187e-03\n",
      " -4.3321168e-03 -1.0096713e-03  1.4357057e-03 -2.6629306e-03\n",
      " -7.0673339e-03 -7.7874158e-03 -9.1003580e-03 -5.9475414e-03\n",
      " -1.8485427e-03 -4.3322854e-03 -6.4602038e-03 -3.7234703e-03\n",
      "  4.3204371e-03 -3.7446506e-03  8.4026875e-03  1.5343311e-03\n",
      " -7.2757686e-03  9.4741406e-03  7.6212473e-03  5.5039772e-03\n",
      " -6.9159088e-03  5.8469702e-03  3.9956947e-03  5.2106031e-03\n",
      "  4.2997017e-03  1.9509481e-03 -3.1334604e-03  8.3492659e-03\n",
      "  9.5947841e-03  3.7921902e-03 -2.8804357e-03  1.2577165e-05\n",
      "  1.2102578e-03 -8.4538413e-03 -8.2683284e-03 -2.0963940e-04\n",
      "  1.2302946e-03 -5.7629086e-03 -4.6891449e-03 -7.3455796e-03\n",
      "  8.3756866e-03  1.6081354e-04 -4.4571292e-03  5.7088407e-03\n",
      "  9.1615254e-03 -4.0589254e-03  8.0501791e-03  5.3913365e-03\n",
      "  5.8514057e-03  4.8010243e-04  8.2049901e-03 -7.0577194e-03]\n"
     ]
    }
   ],
   "source": [
    "\n",
    "# Entrenar el modelo Word2Vec\n",
    "modelo = Word2Vec([palabras_filtradas], min_count=1)\n",
    "\n",
    "# Obtener el vector de una palabra\n",
    "vector = modelo.wv['god']\n",
    "\n",
    "print(vector)\n"
   ]
  },
  {
   "cell_type": "code",
   "execution_count": 25,
   "metadata": {},
   "outputs": [
    {
     "name": "stdout",
     "output_type": "stream",
     "text": [
      "Tamaño del Vocabulario: 90\n",
      "Palabras más similares a 'god': [('witness', 0.3706594705581665), ('carved', 0.21326470375061035), ('commandments', 0.20243501663208008), ('sabbath', 0.20106114447116852), ('stranger', 0.18925873935222626)]\n",
      "Distancia entre 'god' y 'spirit': 1.0866087824106216\n",
      "Palabra que no encaja: egypt\n"
     ]
    }
   ],
   "source": [
    "#Tamaño del Vocabulario:\n",
    "print(\"Tamaño del Vocabulario:\", len(modelo.wv))\n",
    "#Palabras más similares a una dada:\n",
    "similares = modelo.wv.most_similar('god', topn=5)\n",
    "print(\"Palabras más similares a 'god':\", similares)\n",
    "#Distancia entre dos palabras:\n",
    "distancia = modelo.wv.distance('god', 'egypt')\n",
    "print(\"Distancia entre 'god' y 'spirit':\", distancia)\n",
    "#Palabras que no encajan en un conjunto:\n",
    "no_encajan = modelo.wv.doesnt_match(['god', 'egypt', 'sex'])\n",
    "print(\"Palabra que no encaja:\", no_encajan)\n",
    "\n",
    "modelo.wv.save(\"modelo_word2vec.bin\")\n"
   ]
  },
  {
   "cell_type": "code",
   "execution_count": 27,
   "metadata": {},
   "outputs": [
    {
     "name": "stderr",
     "output_type": "stream",
     "text": [
      "[nltk_data] Downloading package averaged_perceptron_tagger to\n",
      "[nltk_data]     /Users/adolfohuerta/nltk_data...\n",
      "[nltk_data]   Unzipping taggers/averaged_perceptron_tagger.zip.\n"
     ]
    },
    {
     "data": {
      "text/plain": [
       "True"
      ]
     },
     "execution_count": 27,
     "metadata": {},
     "output_type": "execute_result"
    }
   ],
   "source": [
    "nltk.download('averaged_perceptron_tagger')"
   ]
  },
  {
   "cell_type": "code",
   "execution_count": 29,
   "metadata": {},
   "outputs": [
    {
     "name": "stderr",
     "output_type": "stream",
     "text": [
      "[nltk_data] Downloading package maxent_ne_chunker to\n",
      "[nltk_data]     /Users/adolfohuerta/nltk_data...\n",
      "[nltk_data]   Unzipping chunkers/maxent_ne_chunker.zip.\n"
     ]
    },
    {
     "data": {
      "text/plain": [
       "True"
      ]
     },
     "execution_count": 29,
     "metadata": {},
     "output_type": "execute_result"
    }
   ],
   "source": [
    "nltk.download('maxent_ne_chunker')"
   ]
  },
  {
   "cell_type": "code",
   "execution_count": 31,
   "metadata": {},
   "outputs": [
    {
     "name": "stderr",
     "output_type": "stream",
     "text": [
      "[nltk_data] Downloading package words to\n",
      "[nltk_data]     /Users/adolfohuerta/nltk_data...\n",
      "[nltk_data]   Unzipping corpora/words.zip.\n"
     ]
    },
    {
     "data": {
      "text/plain": [
       "True"
      ]
     },
     "execution_count": 31,
     "metadata": {},
     "output_type": "execute_result"
    }
   ],
   "source": [
    "nltk.download('words')"
   ]
  },
  {
   "cell_type": "code",
   "execution_count": 32,
   "metadata": {},
   "outputs": [
    {
     "name": "stdout",
     "output_type": "stream",
     "text": [
      "Tokenización y Etiquetado POS:\n",
      "[('exodus', 'NN'), ('god', 'NNS'), ('spoke', 'VBD'), ('words', 'NNS'), ('saying', 'VBG'), ('lord', 'NN'), ('god', 'NN'), ('brought', 'VBD'), ('land', 'NN'), ('egypt', 'NN'), ('house', 'NN'), ('bondage', 'NN'), ('shall', 'MD'), ('gods', 'VB'), ('shall', 'MD'), ('make', 'VB'), ('carved', 'JJ'), ('image—any', 'JJ'), ('likeness', 'NN'), ('anything', 'NN'), ('heaven', 'JJ'), ('earth', 'NN'), ('beneath', 'NN'), ('water', 'NN'), ('earth', 'NN'), ('shall', 'MD'), ('bow', 'VB'), ('serve', 'NN'), ('lord', 'NN'), ('god', 'VBZ'), ('jelous', 'JJ'), ('god', 'NNS'), ('visiting', 'VBG'), ('iniquity', 'NN'), ('fathers', 'NNS'), ('upon', 'IN'), ('children', 'NNS'), ('third', 'JJ'), ('fourth', 'JJ'), ('generations', 'NNS'), ('hate', 'VBP'), ('showing', 'VBG'), ('mercy', 'NN'), ('thousands', 'NNS'), ('love', 'VBP'), ('keep', 'VB'), ('commandments', 'NNS'), ('shall', 'MD'), ('take', 'VB'), ('name', 'NN'), ('lord', 'NNP'), ('god', 'NN'), ('vain', 'NN'), ('lord', 'NN'), ('hold', 'NN'), ('guiltless', 'NN'), ('takes', 'VBZ'), ('name', 'NN'), ('vain', 'JJ'), ('remember', 'JJ'), ('sabbath', 'NN'), ('day', 'NN'), ('keep', 'VB'), ('holy', 'NN'), ('six', 'CD'), ('days', 'NNS'), ('shall', 'MD'), ('labor', 'NN'), ('work', 'NN'), ('seventh', 'JJ'), ('day', 'NN'), ('sabbath', 'NN'), ('lord', 'NN'), ('god', 'NN'), ('shall', 'MD'), ('work', 'VB'), ('son', 'NN'), ('daughter', 'NN'), ('male', 'NN'), ('servant', 'JJ'), ('female', 'NN'), ('servant', 'JJ'), ('cattle', 'NNS'), ('stranger', 'NN'), ('within', 'IN'), ('gates', 'NNS'), ('six', 'CD'), ('days', 'NNS'), ('lord', 'RB'), ('made', 'VBD'), ('heavens', 'NNS'), ('earth', 'JJ'), ('sea', 'NN'), ('rested', 'VBD'), ('sevenh', 'JJ'), ('day', 'NN'), ('therefore', 'IN'), ('lord', 'NN'), ('blessed', 'VBN'), ('sabbath', 'JJ'), ('day', 'NN'), ('hallowed', 'VBD'), ('honor', 'JJ'), ('father', 'RB'), ('moter', 'JJ'), ('days', 'NNS'), ('may', 'MD'), ('long', 'VB'), ('upon', 'IN'), ('land', 'NN'), ('lord', 'NN'), ('god', 'NN'), ('giving', 'VBG'), ('shall', 'MD'), ('mrder', 'VB'), ('shall', 'MD'), ('comit', 'VB'), ('adultery', 'IN'), ('shall', 'MD'), ('stal', 'VB'), ('shall', 'MD'), ('bear', 'VB'), ('false', 'JJ'), ('witness', 'NN'), ('neighbor', 'NN'), ('shall', 'MD'), ('covet', 'VB'), ('neighbor', 'NN'), ('house', 'NN'), ('shall', 'MD'), ('covet', 'VB'), ('neighbor', 'JJ'), ('wife', 'NN'), ('male', 'NN'), ('servant', 'JJ'), ('female', 'NN'), ('servant', 'NN'), ('ox', 'NN'), ('donkey', 'NN'), ('anything', 'NN'), ('neighbor', 'NN')]\n"
     ]
    }
   ],
   "source": [
    "from nltk import pos_tag\n",
    "from nltk.chunk import ne_chunk\n",
    "from gensim.models import Word2Vec\n",
    "\n",
    "\n",
    "\n",
    "# Tokenización y etiquetado POS\n",
    "palabras = [palabra for oracion in [palabras_filtradas] for palabra in oracion]\n",
    "pos_tags = pos_tag(palabras)\n",
    "\n",
    "print(\"Tokenización y Etiquetado POS:\")\n",
    "print(pos_tags)\n",
    "\n",
    "# Análisis morfológico más avanzado: Reconocimiento de Entidades Nombradas (NER)\n",
    "entidades = ne_chunk(pos_tags)\n",
    "\n",
    "\n"
   ]
  },
  {
   "cell_type": "code",
   "execution_count": 33,
   "metadata": {},
   "outputs": [],
   "source": [
    "from collections import Counter"
   ]
  },
  {
   "cell_type": "code",
   "execution_count": 34,
   "metadata": {},
   "outputs": [
    {
     "name": "stdout",
     "output_type": "stream",
     "text": [
      "\n",
      "Frecuencia de Entidades Nombradas:\n",
      "Counter({'NN': 57, 'JJ': 19, 'NNS': 14, 'VB': 14, 'MD': 13, 'VBD': 5, 'IN': 5, 'VBG': 4, 'VBZ': 2, 'VBP': 2, 'CD': 2, 'RB': 2, 'NNP': 1, 'VBN': 1})\n"
     ]
    }
   ],
   "source": [
    "# Contar la frecuencia de cada entidad nombrada\n",
    "entidades_frecuencia = Counter()\n",
    "for chunk in entidades:\n",
    "    if isinstance(chunk, nltk.Tree):\n",
    "        entidades_frecuencia[chunk.label()] += 1\n",
    "    elif isinstance(chunk, tuple):\n",
    "        entidades_frecuencia[chunk[1]] += 1\n",
    "\n",
    "print(\"\\nFrecuencia de Entidades Nombradas:\")\n",
    "print(entidades_frecuencia)\n"
   ]
  }
 ],
 "metadata": {
  "kernelspec": {
   "display_name": "Python 3",
   "language": "python",
   "name": "python3"
  },
  "language_info": {
   "codemirror_mode": {
    "name": "ipython",
    "version": 3
   },
   "file_extension": ".py",
   "mimetype": "text/x-python",
   "name": "python",
   "nbconvert_exporter": "python",
   "pygments_lexer": "ipython3",
   "version": "3.11.2"
  }
 },
 "nbformat": 4,
 "nbformat_minor": 2
}
