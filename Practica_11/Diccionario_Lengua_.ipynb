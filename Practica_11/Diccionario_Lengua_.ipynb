{
 "cells": [
  {
   "cell_type": "markdown",
   "metadata": {},
   "source": [
    "## Traductor de Lengua Tzeltal"
   ]
  },
  {
   "cell_type": "markdown",
   "metadata": {},
   "source": [
    "#### Crear un diccionario Tzctal-Español"
   ]
  },
  {
   "cell_type": "code",
   "execution_count": 22,
   "metadata": {},
   "outputs": [],
   "source": [
    "diccionario_lengua = {\n",
    "    \"na'\": \"acordarse\",\n",
    "    \"neel\": \"adelante\",\n",
    "    \"choyol\": \"aflojado\",\n",
    "    \"neel\": \"antes\",\n",
    "    \"tuub\": \"apestar\",\n",
    "    \"animal\": \"aprisa\",\n",
    "    \"am\": \"araña\",\n",
    "    \"te'\": \"madera\",\n",
    "    \"atomba\":\"utomba\",\n",
    "    \"chab\":\"miel\",\n",
    "    \"taj\":\"pino\",\n",
    "    \"wobil\": \"asado\",\n",
    "    \"on\": \"aguacate\",\n",
    "    \"lobal\": \"platano\",\n",
    "    \"limeta\": \"botella\",\n",
    "    \"labanel\":\"burla\",\n",
    "    \"wexal\": \"calzones\",\n",
    "    \"narax\": \"naranja\",\n",
    "    \"waeb\": \"cama\",\n",
    "    \"mak\": \"perro\",\n",
    "    \"patil\": \"salud\",\n",
    "    \"moch\": \"canasta\",\n",
    "    \"witz\":\"aguila\",\n",
    "    \"suts\": \"gato\",\n",
    "    \"ajin\":\"habitar\",\n",
    "    \"lawux\":\"clavo\",\n",
    "    \"ka'an\" :\"querer\",\n",
    "    \"kumale\": \"comadre\",\n",
    "    \"winik\": \"hombres\",\n",
    "    \"samet\": \"comal\",\n",
    "    \"ants\": \"mujer\" ,\n",
    "    \"jayeb\":\"cuanto\",\n",
    "    \"pewal\":\"cucaracha\",\n",
    "    \"xulub\": \"cuerno\",\n",
    "    \"jech'\":\"comer\",\n",
    "    \"ho'on\":\"yo\",\n",
    "    \"ha'at\": \"tu\",\n",
    "    \"ha'\":\"ella\",\n",
    "    \"ho'otic\": \"nosotros\",\n",
    "    \"ha'ex\":\"ustedes\",\n",
    "    \"ha'c\":\"ellos\",\n",
    "    \"ich\":\"chile\",\n",
    "    \"mulil\":\"delito\",\n",
    "    \"elk'an\": \"robar\",\n",
    "    \"toj\":\"derecho\",\n",
    "    \"animaj\": \"correr\",\n",
    "    \"patil\": \"despues\",\n",
    "    \"or\": \"ahora\",\n",
    "    \"pakuj\":\"diablo\",\n",
    "    \"ya'tik\": \"ahora\",\n",
    "    \"np'il\":\"nariz\",\n",
    "    \"eil\":\"boca\",\n",
    "    \"sbakel\":\"dislocar\",\n",
    "    \"pux\":\"doblar\",\n",
    "    \"yakud\":\"emborracharse\",\n",
    "    \"banmeabi\":\"adios\",\n",
    "    \"we'anme\":\"provecho\",\n",
    "    \"ilimba\":\"enojo\",\n",
    "    \"bijtesel\": \"enseñanza\",\n",
    "    \"ay\": \"hay\",\n",
    "    \"tiob\":\"helada\",\n",
    "    \"echej\":\"hacha\",\n",
    "    \"tot\":\"padre\",\n",
    "    \"me'\":\"madre\",\n",
    "    \"vo'\":\"agua\",\n",
    "    \"kerem\":\"niño\",\n",
    "    \"tsima\":\"huacal\",\n",
    "    \"tseb\":\"niña\",\n",
    "    \"pepen\":\"mariposa\",\n",
    "    \"bak\":\"hueso\",\n",
    "    \"jolil\":\"cabeza\",\n",
    "    \"bak\":\"hueso\",\n",
    "    \"anel\":\"huida\",\n",
    "    \"akanil\":\"pie\",\n",
    "    \"atil\":\"pene\",\n",
    "    \"petet\":\"huso\",\n",
    "    \"pom\":\"incienso\",\n",
    "    \"pumel\":\"indigestion\",\n",
    "    \"xaro\":\"jarro\",\n",
    "    \"ja\":\"jicara\",\n",
    "    \"ji\":\"jilote\",\n",
    "    \"tajin\":\"jugar\",\n",
    "    \"pachton\":\"laja\",\n",
    "    \"najt'\":\"largo\",\n",
    "    \"shi'\":\"leña\",\n",
    "    \"elmunex\":\"limon\",\n",
    "    \"sak\":\"limpio\",\n",
    "    \"lukum\":\"lombriz\",\n",
    "    \"machit\":\"machete\",\n",
    "    \"jalame'\":\"madrina\",\n",
    "    \"lew\":\"manteca\",\n",
    "    \"miltomba\":\"matanza\",\n",
    "    \"poxil\":\"medicina\",\n",
    "    \"abisol\":\"medida\",\n",
    "    \"bolmal\":\"mercancia\",\n",
    "    \"u\":\"mes\",\n",
    "    \"chab\":\"miel\",\n",
    "    \"totoben\":\"mohoso\",\n",
    "    \"max\":\"mono\",\n",
    "    \"us\":\"mosco\",\n",
    "    \"ja\":\"mosca\",\n",
    "    \"swentail\":\"motivo\",\n",
    "    \"kerem\":\"muchacho\",\n",
    "    \"lom\":\"muy\",\n",
    "    \"labal\":\"pegado\",\n",
    "    \"ya\":\"picante\"\n",
    "}\n",
    "\n"
   ]
  },
  {
   "cell_type": "code",
   "execution_count": 24,
   "metadata": {},
   "outputs": [
    {
     "data": {
      "text/plain": [
       "100"
      ]
     },
     "execution_count": 24,
     "metadata": {},
     "output_type": "execute_result"
    }
   ],
   "source": [
    "len(diccionario_lengua)"
   ]
  },
  {
   "cell_type": "markdown",
   "metadata": {},
   "source": [
    "Acceder a una palabra en el diccionario y busca su traduccion --> "
   ]
  },
  {
   "cell_type": "code",
   "execution_count": 8,
   "metadata": {},
   "outputs": [
    {
     "name": "stdout",
     "output_type": "stream",
     "text": [
      "xulub significa: cuerno\n"
     ]
    }
   ],
   "source": [
    "palabra_lengua = \"xulub\"\n",
    "traduccion = diccionario_lengua.get(palabra_lengua, \"La palabra no está en el diccionario.\")\n",
    "print(f\"{palabra_lengua} significa: {traduccion}\")"
   ]
  },
  {
   "cell_type": "code",
   "execution_count": 11,
   "metadata": {},
   "outputs": [],
   "source": [
    "def buscar_espanol(palabra_espaniol,diccionario_lengua):\n",
    "    r = list(diccionario_lengua.keys())[list(diccionario_lengua.values()).index(palabra_espaniol)]\n",
    "    return r"
   ]
  },
  {
   "cell_type": "code",
   "execution_count": 13,
   "metadata": {},
   "outputs": [
    {
     "name": "stdout",
     "output_type": "stream",
     "text": [
      "La palabra : aguacate en tzctal es: on\n"
     ]
    }
   ],
   "source": [
    "palabra_espaniol = \"aguacate\"\n",
    "palabra = buscar_espanol(palabra_espaniol,diccionario_lengua)\n",
    "print( \"La palabra :\" , palabra_espaniol, \"en tezltal es:\", palabra)"
   ]
  },
  {
   "cell_type": "code",
   "execution_count": 10,
   "metadata": {},
   "outputs": [
    {
     "name": "stdout",
     "output_type": "stream",
     "text": [
      "madera significa: La palabra no está en el diccionario.\n"
     ]
    }
   ],
   "source": [
    "palabra_español = \"madera\"\n",
    "traduccion = diccionario_lengua.get(palabra_español, \"La palabra no está en el diccionario.\")\n",
    "print(f\"{palabra_español} significa: {traduccion}\")"
   ]
  },
  {
   "cell_type": "markdown",
   "metadata": {},
   "source": [
    "Agregar una nueva palabra al diccionario"
   ]
  },
  {
   "cell_type": "code",
   "execution_count": null,
   "metadata": {},
   "outputs": [],
   "source": [
    "nueva_palabra_lengua = \"utomba\"\n",
    "nueva_traduccion = \"disputa\"\n",
    "diccionario_lengua[nueva_palabra_lengua] = nueva_traduccion"
   ]
  },
  {
   "cell_type": "markdown",
   "metadata": {},
   "source": [
    "Imprimir todo el diccionario"
   ]
  },
  {
   "cell_type": "code",
   "execution_count": null,
   "metadata": {},
   "outputs": [],
   "source": [
    "for palabra, traduccion in diccionario_lengua.items():\n",
    "    print(f\"{palabra}: {traduccion}\")"
   ]
  }
 ],
 "metadata": {
  "kernelspec": {
   "display_name": "Python 3",
   "language": "python",
   "name": "python3"
  },
  "language_info": {
   "codemirror_mode": {
    "name": "ipython",
    "version": 3
   },
   "file_extension": ".py",
   "mimetype": "text/x-python",
   "name": "python",
   "nbconvert_exporter": "python",
   "pygments_lexer": "ipython3",
   "version": "3.11.2"
  }
 },
 "nbformat": 4,
 "nbformat_minor": 2
}
